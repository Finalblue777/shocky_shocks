{
 "cells": [
  {
   "cell_type": "code",
   "execution_count": 10,
   "id": "0adc315d",
   "metadata": {},
   "outputs": [],
   "source": [
    "import numpy as np\n",
    "import math as mp\n",
    "import pandas as pd"
   ]
  },
  {
   "cell_type": "code",
   "execution_count": 15,
   "id": "8f93fa5e",
   "metadata": {},
   "outputs": [],
   "source": [
    "# Some parameter initialization. \n",
    "sigma = 2\n",
    "beta = 0.8\n",
    "W = 1\n",
    "n=np.linspace(10,0,11)\n",
    "gamma = 200\n",
    "phi = 3\n",
    "A = 1"
   ]
  },
  {
   "cell_type": "code",
   "execution_count": 16,
   "id": "ea6daa60",
   "metadata": {},
   "outputs": [],
   "source": [
    "power = (gamma + phi)/(1+phi)"
   ]
  },
  {
   "cell_type": "code",
   "execution_count": 17,
   "id": "9c86930a",
   "metadata": {},
   "outputs": [],
   "source": [
    "tprod1 = beta**n"
   ]
  },
  {
   "cell_type": "code",
   "execution_count": 21,
   "id": "0a6e53ad",
   "metadata": {},
   "outputs": [],
   "source": [
    "P0 = (np.sum(1/(tprod1)**(1-sigma)))**(1/(1-sigma))\n"
   ]
  },
  {
   "cell_type": "code",
   "execution_count": null,
   "id": "c844221f",
   "metadata": {},
   "outputs": [],
   "source": []
  },
  {
   "cell_type": "code",
   "execution_count": null,
   "id": "f520a797",
   "metadata": {},
   "outputs": [],
   "source": []
  },
  {
   "cell_type": "code",
   "execution_count": null,
   "id": "fe33e03b",
   "metadata": {},
   "outputs": [],
   "source": []
  }
 ],
 "metadata": {
  "kernelspec": {
   "display_name": "base",
   "language": "python",
   "name": "python3"
  },
  "language_info": {
   "codemirror_mode": {
    "name": "ipython",
    "version": 3
   },
   "file_extension": ".py",
   "mimetype": "text/x-python",
   "name": "python",
   "nbconvert_exporter": "python",
   "pygments_lexer": "ipython3",
   "version": "3.10.14"
  }
 },
 "nbformat": 4,
 "nbformat_minor": 5
}
