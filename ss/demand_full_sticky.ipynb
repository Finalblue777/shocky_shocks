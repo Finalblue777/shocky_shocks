{
 "cells": [
  {
   "cell_type": "code",
   "execution_count": 3,
   "id": "e26d8611",
   "metadata": {},
   "outputs": [],
   "source": [
    "import numpy as np\n",
    "import math as mp\n",
    "import pandas as pd"
   ]
  },
  {
   "cell_type": "code",
   "execution_count": 4,
   "id": "16249221",
   "metadata": {},
   "outputs": [
    {
     "data": {
      "image/png": "[encoded data removed]",
      "text/plain": [
       "<Figure size 640x480 with 1 Axes>"
      ]
     },
     "metadata": {},
     "output_type": "display_data"
    }
   ],
   "source": [
    "data=pd.read_csv('APP_data_usa_goods.csv', index_col=0, parse_dates=True, infer_datetime_format=True)\n",
    "data_tau=(data['invtCogsRatio']* 36.5/(30*0.1))\n",
    "import matplotlib.pyplot as plt\n",
    "plt.hist(data_tau,bins = 55)\n",
    "plt.show()"
   ]
  },
  {
   "cell_type": "code",
   "execution_count": 5,
   "id": "706b2dbe",
   "metadata": {},
   "outputs": [],
   "source": [
    "sigma = 2\n",
    "beta = 1 /( 1.0 +0.01)\n",
    "beta1 =1/( (1.0 +0.01* np.exp(30/(36.5*0.9)))) \n",
    "beta_hh =  beta\n",
    "W = 1"
   ]
  },
  {
   "cell_type": "code",
   "execution_count": 6,
   "id": "6bed965a",
   "metadata": {},
   "outputs": [
    {
     "name": "stderr",
     "output_type": "stream",
     "text": [
      "/var/folders/26/bmvk0hrd5xbgcvl_s6s42rf80000gn/T/ipykernel_5638/1678760125.py:4: RuntimeWarning: divide by zero encountered in log\n",
      "  N = -(data_tau) - 1/np.log(beta*c)\n",
      "/var/folders/26/bmvk0hrd5xbgcvl_s6s42rf80000gn/T/ipykernel_5638/1678760125.py:5: RuntimeWarning: divide by zero encountered in log\n",
      "  tau1= -1/np.log(beta*c) - N\n",
      "/var/folders/26/bmvk0hrd5xbgcvl_s6s42rf80000gn/T/ipykernel_5638/1678760125.py:7: RuntimeWarning: divide by zero encountered in log\n",
      "  tau2= -1/np.log(beta1*c) - N\n"
     ]
    }
   ],
   "source": [
    "tau_diff = np.zeros(( 1000,1))\n",
    "i = 0\n",
    "for c in np.linspace(0, 0.99, 1000): \n",
    "    N = -(data_tau) - 1/np.log(beta*c) \n",
    "    tau1= -1/np.log(beta*c) - N\n",
    "    tau1[tau1<0] = 0     \n",
    "    tau2= -1/np.log(beta1*c) - N\n",
    "    tau2[tau2<0] = 0    \n",
    "    tau_diff[i] = np.mean(np.abs(tau1-tau2))\n",
    "    i = i+1"
   ]
  },
  {
   "cell_type": "code",
   "execution_count": 7,
   "id": "e21c9c12",
   "metadata": {},
   "outputs": [],
   "source": [
    "min_val = np.min(np.abs(tau_diff-1))\n",
    "argmins = np.where(np.abs(tau_diff-1) == min_val)[0]"
   ]
  },
  {
   "cell_type": "code",
   "execution_count": 8,
   "id": "0ba5cff8",
   "metadata": {},
   "outputs": [],
   "source": [
    "c_list = np.linspace(0, 0.99, 1000)\n",
    "c=c_list[argmins]"
   ]
  },
  {
   "cell_type": "code",
   "execution_count": 9,
   "id": "991d61b4",
   "metadata": {},
   "outputs": [],
   "source": [
    "N=-data_tau - 1/np.log(beta_hh*c) \n",
    "tau= -1/np.log(beta_hh*c) - N\n",
    "tau[tau<0] = 0  \n",
    "tau_floor = np.floor(tau)\n",
    "tau_ceil = np.ceil(tau)\n",
    "tprod_ceil=  (beta_hh*c)**tau_ceil * (tau_ceil + N)\n",
    "tprod_floor=  (beta_hh*c)**tau_floor * (tau_floor + N)\n",
    "tau[(tprod_ceil-tprod_floor)>0] = tau_ceil[(tprod_ceil-tprod_floor)>0]\n",
    "tau[(tprod_ceil-tprod_floor)<0] = tau_floor[(tprod_ceil-tprod_floor)<0]\n",
    "tau[tau<0] = 0  \n",
    "\n",
    "tprod = (beta*c)**tau * (tau + N)\n",
    "tprod_array = np.array([tprod])"
   ]
  },
  {
   "cell_type": "code",
   "execution_count": 10,
   "id": "3b5ca0f8",
   "metadata": {},
   "outputs": [],
   "source": [
    "import numpy as np\n",
    "\n",
    "def euler_path_fixed_wages(\n",
    "    i_path,\n",
    "    demand_level,\n",
    "    theta,\n",
    "    *,\n",
    "    a_path=None,         # optional log TFP path; default zeros\n",
    "    beta_hh=0.99,\n",
    "    phi=1.0,             # inverse Frisch\n",
    "    phi_w=50.0,          # Rotemberg wage stickiness (higher => stickier)\n",
    "    r_ss=None,           # steady-state real rate; default 1/beta - 1\n",
    "    max_iter=500,\n",
    "    tol=1e-10,\n",
    "    relax=0.6,\n",
    "    return_all=False,\n",
    "):\n",
    "    \"\"\"\n",
    "    Deterministic NK with flexible prices and ONLY wage rigidity (Rotemberg).\n",
    "    You feed: nominal rate path i_t and demand (preference) shock path d_t.\n",
    "    Optional: productivity path a_t (log TFP). Perfect-foresight solution.\n",
    "\n",
    "    Equations (log deviations):\n",
    "      y_t = c_t\n",
    "      n_t = y_t - a_t\n",
    "      mrs_t = σ c_t + φ n_t = (σ+φ) y_t - φ a_t\n",
    "      Wage Rotemberg:\n",
    "          φ_w π^w_t = (w_t - mrs_t) - β (w_{t+1} - mrs_{t+1}),  with  π^w_t = Δ w_t\n",
    "      Flexible prices:\n",
    "          p_t ∝ (w_t - a_t)  ⇒  π_t = π^w_t - Δ a_t\n",
    "      Euler (IS) with demand shock d_t:\n",
    "          c_t = c_{t+1} - (1/σ) * ( i_t - π_{t+1} - r_ss - d_t )\n",
    "\n",
    "    Sign convention for demand_level:\n",
    "      Positive demand_level[t] lowers the effective real rate (raises desired c_t).\n",
    "    \"\"\"\n",
    "    i_path = np.asarray(i_path, dtype=float)\n",
    "    d_path = np.asarray(demand_level, dtype=float)\n",
    "    T = i_path.size\n",
    "    assert d_path.size == T, \"demand_level and i_path must have same length\"\n",
    "\n",
    "    if a_path is None:\n",
    "        a_path = np.zeros(T, dtype=float)\n",
    "    else:\n",
    "        a_path = np.asarray(a_path, dtype=float)\n",
    "        assert a_path.size == T, \"a_path and i_path must have same length\"\n",
    "\n",
    "    if r_ss is None:\n",
    "        r_ss = 0.01\n",
    "\n",
    "    # --- helper: wage block for given y_t = c_t ---\n",
    "    def _solve_wage_block(y, a):\n",
    "        # mrs_t = (σ+φ) y_t - φ a_t\n",
    "        mrs = (theta + phi) * y - phi * a\n",
    "        dmrs = np.zeros(T)\n",
    "        if T > 1:\n",
    "            dmrs[1:] = mrs[1:] - mrs[:-1]\n",
    "        # Tridiagonal system in u_t = w_t - mrs_t:\n",
    "        #   β u_{t+1} + (φ_w - 1) u_t - φ_w u_{t-1} = - φ_w Δ mrs_t\n",
    "        A = np.zeros((T, T))\n",
    "        for t in range(T):\n",
    "            if t > 0:\n",
    "                A[t, t - 1] = -phi_w\n",
    "            A[t, t] = (phi_w - 1.0)\n",
    "            if t < T - 1:\n",
    "                A[t, t + 1] = beta_hh\n",
    "        b = -phi_w * dmrs\n",
    "        u = np.linalg.solve(A, b)\n",
    "        w = u + mrs\n",
    "        piw = np.zeros(T)\n",
    "        if T > 1:\n",
    "            piw[1:] = w[1:] - w[:-1]\n",
    "        return u, w, piw, mrs\n",
    "\n",
    "    # --- initial guess for c: ignore inflation, include demand shock ---\n",
    "    c = np.zeros(T + 1)\n",
    "    for t in range(T - 1, -1, -1):\n",
    "        c[t] = c[t + 1] - (1.0 / theta) * (i_path[t] - 0.0 - r_ss - d_path[t])\n",
    "    c = c[:T]\n",
    "\n",
    "    # --- fixed-point iterate: wages ⇒ π ⇒ Euler ⇒ c ---\n",
    "    for _ in range(max_iter):\n",
    "        u, w, piw, mrs = _solve_wage_block(c, a_path)\n",
    "        da = np.zeros(T)\n",
    "        if T > 1:\n",
    "            da[1:] = a_path[1:] - a_path[:-1]\n",
    "        pi = piw - da  # flexible-price inflation\n",
    "\n",
    "        # Backward Euler with π_{t+1} and demand shock d_t\n",
    "        c_new = np.zeros(T + 1)\n",
    "        for t in range(T - 1, -1, -1):\n",
    "            exp_pi_next = pi[t + 1] if t + 1 < T else 0.0\n",
    "            c_new[t] = c_new[t + 1] - (1.0 / theta) * (i_path[t] - exp_pi_next - r_ss - d_path[t])\n",
    "        c_new = c_new[:T]\n",
    "\n",
    "        diff = np.max(np.abs(c_new - c))\n",
    "        c = (1 - relax) * c + relax * c_new\n",
    "        if diff < tol:\n",
    "            break\n",
    "\n",
    "    # --- final outputs ---\n",
    "    u, w, piw, mrs = _solve_wage_block(c, a_path)\n",
    "    da = np.zeros(T)\n",
    "    if T > 1:\n",
    "        da[1:] = a_path[1:] - a_path[:-1]\n",
    "    pi = piw - da\n",
    "\n",
    "    if return_all:\n",
    "        return {\n",
    "            \"c\": c, \"pi\": pi, \"w\": w, \"piw\": piw, \"u\": u, \"mrs\": mrs,\n",
    "            \"n\": c - a_path,         # employment (since y=c and y=a+n)\n",
    "            \"y\": c,                  # output\n",
    "            \"a\": a_path,             # TFP\n",
    "        }\n",
    "    return c"
   ]
  },
  {
   "cell_type": "code",
   "execution_count": 11,
   "id": "ecd00d38",
   "metadata": {},
   "outputs": [
    {
     "name": "stdout",
     "output_type": "stream",
     "text": [
      "(729, 3)\n"
     ]
    }
   ],
   "source": [
    "import numpy as np\n",
    "import itertools\n",
    "\n",
    "sequence_length = 3\n",
    "r_choice = np.linspace(0, 0.02, 9)  # 6 values from 0 to 0.0125 inclusive\n",
    "\n",
    "# Generate all possible combinations (Cartesian product)\n",
    "all_combinations = list(itertools.product(r_choice, repeat=sequence_length))\n",
    "\n",
    "# Convert to NumPy array\n",
    "big_array = np.array(all_combinations)\n",
    "\n",
    "print(big_array.shape)  # Should be (6^6, 6) = (46656, 6)\n",
    "\n",
    "# Assign to r_arrange\n",
    "r_arrange = big_array\n",
    "size = r_arrange.shape[0]"
   ]
  },
  {
   "cell_type": "code",
   "execution_count": 17,
   "id": "16317dac",
   "metadata": {},
   "outputs": [],
   "source": [
    "k=0\n",
    "T = 10\n",
    "\n",
    "deviation_gap = np.zeros((size, 1))\n",
    "C_consumption = np.zeros((size, 10)) \n",
    "for r in r_arrange: \n",
    "        \n",
    "\n",
    "    # Example: fixed i=0, expected productivity sequence\n",
    "    i_path = np.ones(T)*(1/(beta_hh)-1)   # fixed nominal rate\n",
    "    abar = np.zeros(T)\n",
    "    eps = np.zeros(T)\n",
    "    abar[0] = -0.01\n",
    "    r_arrange_list = np.ones(T) *(1/(beta_hh)-1)\n",
    "    r_arrange_list[0:sequence_length] = r_arrange[k]\n",
    "\n",
    "    c = euler_path_fixed_wages(r_arrange_list, abar, theta=1.0)\n",
    "    deviation_gap[k] = np.sum((c )**2) \n",
    "    C_consumption[k, :len(c)] = c.flatten()\n",
    "    k = k+1"
   ]
  },
  {
   "cell_type": "code",
   "execution_count": 18,
   "id": "e432080b",
   "metadata": {},
   "outputs": [
    {
     "data": {
      "text/plain": [
       "array([40])"
      ]
     },
     "execution_count": 18,
     "metadata": {},
     "output_type": "execute_result"
    }
   ],
   "source": [
    "argmins_gap = np.where(deviation_gap == np.min(deviation_gap))[0]\n",
    "argmins_gap"
   ]
  },
  {
   "cell_type": "code",
   "execution_count": 19,
   "id": "0aadb2bd",
   "metadata": {},
   "outputs": [],
   "source": [
    "target = np.array([0.01]*sequence_length)\n",
    "\n",
    "matches = np.all(np.isclose(r_arrange, target), axis=1)"
   ]
  },
  {
   "cell_type": "code",
   "execution_count": 20,
   "id": "a79b619f",
   "metadata": {},
   "outputs": [
    {
     "data": {
      "text/plain": [
       "array([[0.  , 0.01, 0.01]])"
      ]
     },
     "execution_count": 20,
     "metadata": {},
     "output_type": "execute_result"
    }
   ],
   "source": [
    "r_arrange[argmins_gap]"
   ]
  },
  {
   "cell_type": "code",
   "execution_count": 22,
   "id": "dcfc7b87",
   "metadata": {},
   "outputs": [
    {
     "data": {
      "image/png": "[encoded data removed]",
      "text/plain": [
       "<Figure size 640x480 with 1 Axes>"
      ]
     },
     "metadata": {},
     "output_type": "display_data"
    }
   ],
   "source": [
    "\n",
    "\n",
    "plt.plot( C_consumption[matches, :19].T, label='without adjustment')\n",
    "\n",
    "plt.plot( C_consumption[argmins_gap, :19].T, label='with adjustment')\n",
    "plt.legend()\n",
    "plt.title('1 percent decrease in demand')\n",
    "plt.xlabel('Time')\n",
    "plt.ylabel('Normalized Output') \n",
    "plt.show()"
   ]
  },
  {
   "cell_type": "code",
   "execution_count": 75,
   "id": "3e808009",
   "metadata": {},
   "outputs": [
    {
     "name": "stdout",
     "output_type": "stream",
     "text": [
      "(46656, 6)\n"
     ]
    }
   ],
   "source": [
    "import numpy as np\n",
    "import itertools\n",
    "\n",
    "sequence_length = 6\n",
    "r_choice = np.linspace(0, 0.0125, 6)  # 6 values from 0 to 0.0125 inclusive\n",
    "\n",
    "# Generate all possible combinations (Cartesian product)\n",
    "all_combinations = list(itertools.product(r_choice, repeat=sequence_length))\n",
    "\n",
    "# Convert to NumPy array\n",
    "big_array = np.array(all_combinations)\n",
    "\n",
    "print(big_array.shape)  # Should be (6^6, 6) = (46656, 6)\n",
    "\n",
    "# Assign to r_arrange\n",
    "r_arrange = big_array\n",
    "size = r_arrange.shape[0]"
   ]
  },
  {
   "cell_type": "code",
   "execution_count": 76,
   "id": "fdcbd720",
   "metadata": {},
   "outputs": [],
   "source": [
    "import numpy as np\n",
    "\n",
    "def euler_path_fixed_wages(\n",
    "    i_path,\n",
    "    a_path,\n",
    "    theta,\n",
    "    *,\n",
    "    demand_level=None,   # <--- added\n",
    "    beta_hh=0.99,\n",
    "    phi=1.0,\n",
    "    phi_w=50.0,\n",
    "    r_ss=None,\n",
    "    max_iter=500,\n",
    "    tol=1e-10,\n",
    "    relax=0.6,\n",
    "    return_all=False,\n",
    "):\n",
    "    \"\"\"\n",
    "    Deterministic NK (no capital), flexible prices, ONLY wage stickiness (Rotemberg).\n",
    "    You feed: nominal rate path i_t, log TFP path a_t, and demand shock d_t.\n",
    "    We solve the coupled system for c/y and inflation with perfect foresight.\n",
    "\n",
    "    Core equations (log deviations):\n",
    "      y_t = c_t\n",
    "      y_t = a_t + n_t  => n_t = y_t - a_t\n",
    "      mrs_t = σ c_t + φ n_t = (σ+φ) y_t - φ a_t\n",
    "      φ_w π^w_t = (w_t - mrs_t) - β (w_{t+1} - mrs_{t+1}),  with π^w_t = Δ w_t\n",
    "      Flexible prices:  p_t = const + (w_t - a_t)  ⇒  π_t = π^w_t - Δa_t\n",
    "      Euler (IS) with demand shock d_t:\n",
    "         c_t = c_{t+1} - (1/σ) * ( i_t - π_{t+1} - r_ss - d_t )\n",
    "    \"\"\"\n",
    "    i_path = np.asarray(i_path, dtype=float)\n",
    "    a_path = np.asarray(a_path, dtype=float)\n",
    "    T = i_path.size\n",
    "    assert a_path.size == T, \"a_path and i_path must have same length\"\n",
    "\n",
    "    if demand_level is None:\n",
    "        d = np.zeros(T, dtype=float)\n",
    "    else:\n",
    "        d = np.asarray(demand_level, dtype=float)\n",
    "        assert d.size == T, \"demand_level and i_path must have same length\"\n",
    "\n",
    "    if r_ss is None:\n",
    "        r_ss = 0.01  # keep your original default\n",
    "\n",
    "    # ---- wage block helper ----\n",
    "    def _solve_wage_block(y, a):\n",
    "        # mrs_t = (σ+φ) y_t - φ a_t\n",
    "        mrs = (theta + phi) * y - phi * a\n",
    "        dmrs = np.zeros(T)\n",
    "        if T > 1:\n",
    "            dmrs[1:] = mrs[1:] - mrs[:-1]\n",
    "        # β u_{t+1} + (φ_w - 1) u_t - φ_w u_{t-1} = - φ_w Δ mrs_t\n",
    "        A = np.zeros((T, T))\n",
    "        for t in range(T):\n",
    "            if t > 0:\n",
    "                A[t, t - 1] = -phi_w\n",
    "            A[t, t] = (phi_w - 1.0)\n",
    "            if t < T - 1:\n",
    "                A[t, t + 1] = beta_hh\n",
    "        b = -phi_w * dmrs\n",
    "        u = np.linalg.solve(A, b)   # wage markup: u_t = w_t - mrs_t\n",
    "        w = u + mrs                 # real wage\n",
    "        piw = np.zeros(T)           # wage inflation\n",
    "        if T > 1:\n",
    "            piw[1:] = w[1:] - w[:-1]\n",
    "        return u, w, piw, mrs\n",
    "\n",
    "    # ---- initial guess for c: π=0, include demand shock d_t ----\n",
    "    c = np.zeros(T + 1)\n",
    "    for t in range(T - 1, -1, -1):\n",
    "        exp_pi_next = 0.0\n",
    "        c[t] = c[t + 1] - (1.0 / theta) * (i_path[t] - exp_pi_next - r_ss - d[t])\n",
    "    c = c[:T]\n",
    "\n",
    "    # ---- fixed-point: wages ⇒ π ⇒ Euler (with d_t) ⇒ c ----\n",
    "    for _ in range(max_iter):\n",
    "        u, w, piw, mrs = _solve_wage_block(c, a_path)\n",
    "        da = np.zeros(T)\n",
    "        if T > 1:\n",
    "            da[1:] = a_path[1:] - a_path[:-1]\n",
    "        pi = piw - da  # flexible-price inflation\n",
    "\n",
    "        c_new = np.zeros(T + 1)\n",
    "        for t in range(T - 1, -1, -1):\n",
    "            exp_pi_next = pi[t + 1] if t + 1 < T else 0.0\n",
    "            c_new[t] = c_new[t + 1] - (1.0 / theta) * (i_path[t] - exp_pi_next - r_ss - d[t])\n",
    "        c_new = c_new[:T]\n",
    "\n",
    "        diff = np.max(np.abs(c_new - c))\n",
    "        c = (1 - relax) * c + relax * c_new\n",
    "        if diff < tol:\n",
    "            break\n",
    "\n",
    "    # ---- final pass ----\n",
    "    u, w, piw, mrs = _solve_wage_block(c, a_path)\n",
    "    da = np.zeros(T)\n",
    "    if T > 1:\n",
    "        da[1:] = a_path[1:] - a_path[:-1]\n",
    "    pi = piw - da\n",
    "\n",
    "    if return_all:\n",
    "        return {\n",
    "            \"c\": c, \"pi\": pi, \"w\": w, \"piw\": piw,\n",
    "            \"u\": u, \"mrs\": mrs, \"n\": c - a_path  # employment since y=c and y=a+n\n",
    "        }\n",
    "    return c, pi\n"
   ]
  },
  {
   "cell_type": "code",
   "execution_count": 77,
   "id": "06aa8fa5",
   "metadata": {},
   "outputs": [
    {
     "ename": "KeyboardInterrupt",
     "evalue": "",
     "output_type": "error",
     "traceback": [
      "\u001b[0;31m---------------------------------------------------------------------------\u001b[0m",
      "\u001b[0;31mKeyboardInterrupt\u001b[0m                         Traceback (most recent call last)",
      "Cell \u001b[0;32mIn[77], line 53\u001b[0m\n\u001b[1;32m     50\u001b[0m dA[\u001b[38;5;241m1\u001b[39m:] \u001b[38;5;241m=\u001b[39m abar[\u001b[38;5;241m1\u001b[39m:] \u001b[38;5;241m-\u001b[39m abar[:\u001b[38;5;241m-\u001b[39m\u001b[38;5;241m1\u001b[39m]\n\u001b[1;32m     52\u001b[0m demand[\u001b[38;5;241m0\u001b[39m] \u001b[38;5;241m=\u001b[39m \u001b[38;5;241m-\u001b[39m\u001b[38;5;241m0.01\u001b[39m  \u001b[38;5;66;03m# initial demand shock\u001b[39;00m\n\u001b[0;32m---> 53\u001b[0m c,pi \u001b[38;5;241m=\u001b[39m \u001b[43meuler_path_fixed_wages\u001b[49m\u001b[43m(\u001b[49m\u001b[43mi_path\u001b[49m\u001b[43m,\u001b[49m\u001b[43m \u001b[49m\u001b[43mabar\u001b[49m\u001b[43m,\u001b[49m\u001b[43m \u001b[49m\u001b[43mtheta\u001b[49m\u001b[38;5;241;43m=\u001b[39;49m\u001b[38;5;241;43m1.0\u001b[39;49m\u001b[43m,\u001b[49m\u001b[43mdemand_level\u001b[49m\u001b[38;5;241;43m=\u001b[39;49m\u001b[43mdemand\u001b[49m\u001b[43m)\u001b[49m\n\u001b[1;32m     54\u001b[0m deviation_gap[k] \u001b[38;5;241m=\u001b[39m np\u001b[38;5;241m.\u001b[39msum((c )\u001b[38;5;241m*\u001b[39m\u001b[38;5;241m*\u001b[39m\u001b[38;5;241m2\u001b[39m) \u001b[38;5;241m+\u001b[39m np\u001b[38;5;241m.\u001b[39msum(pi\u001b[38;5;241m*\u001b[39m\u001b[38;5;241m*\u001b[39m\u001b[38;5;241m2\u001b[39m)  \n\u001b[1;32m     55\u001b[0m C_consumption[k, :\u001b[38;5;28mlen\u001b[39m(c)] \u001b[38;5;241m=\u001b[39m c\u001b[38;5;241m.\u001b[39mflatten() \n",
      "Cell \u001b[0;32mIn[76], line 90\u001b[0m, in \u001b[0;36meuler_path_fixed_wages\u001b[0;34m(i_path, a_path, theta, demand_level, beta_hh, phi, phi_w, r_ss, max_iter, tol, relax, return_all)\u001b[0m\n\u001b[1;32m     87\u001b[0m     c_new[t] \u001b[38;5;241m=\u001b[39m c_new[t \u001b[38;5;241m+\u001b[39m \u001b[38;5;241m1\u001b[39m] \u001b[38;5;241m-\u001b[39m (\u001b[38;5;241m1.0\u001b[39m \u001b[38;5;241m/\u001b[39m theta) \u001b[38;5;241m*\u001b[39m (i_path[t] \u001b[38;5;241m-\u001b[39m exp_pi_next \u001b[38;5;241m-\u001b[39m r_ss \u001b[38;5;241m-\u001b[39m d[t])\n\u001b[1;32m     88\u001b[0m c_new \u001b[38;5;241m=\u001b[39m c_new[:T]\n\u001b[0;32m---> 90\u001b[0m diff \u001b[38;5;241m=\u001b[39m np\u001b[38;5;241m.\u001b[39mmax(\u001b[43mnp\u001b[49m\u001b[38;5;241;43m.\u001b[39;49m\u001b[43mabs\u001b[49m\u001b[43m(\u001b[49m\u001b[43mc_new\u001b[49m\u001b[43m \u001b[49m\u001b[38;5;241;43m-\u001b[39;49m\u001b[43m \u001b[49m\u001b[43mc\u001b[49m\u001b[43m)\u001b[49m)\n\u001b[1;32m     91\u001b[0m c \u001b[38;5;241m=\u001b[39m (\u001b[38;5;241m1\u001b[39m \u001b[38;5;241m-\u001b[39m relax) \u001b[38;5;241m*\u001b[39m c \u001b[38;5;241m+\u001b[39m relax \u001b[38;5;241m*\u001b[39m c_new\n\u001b[1;32m     92\u001b[0m \u001b[38;5;28;01mif\u001b[39;00m diff \u001b[38;5;241m<\u001b[39m tol:\n",
      "\u001b[0;31mKeyboardInterrupt\u001b[0m: "
     ]
    }
   ],
   "source": [
    "k=0\n",
    "T=30\n",
    "deviation_gap = np.zeros((size, 1))\n",
    "C_consumption = np.zeros((size, 30))\n",
    "N_array = np.array(N)\n",
    "\n",
    "# Compute tprod using product of first tau betas\n",
    "tau_int = tau.astype(int)    \n",
    "tvals = tau_int.to_numpy()\n",
    "for r in r_arrange: \n",
    "        \n",
    "    i_path = np.ones(T)*(1/(beta_hh)-1)   # fixed nominal rate\n",
    "    abar = np.zeros(T)\n",
    "    eps = np.zeros(T)\n",
    "\n",
    "    interest_rate_list = np.ones((T,T)) * 0.01\n",
    "    # Start with all rows = base\n",
    "\n",
    "    n = len(r_arrange[k])\n",
    "    r = np.asarray(r_arrange[k], dtype=float)\n",
    "    fill = 0.01\n",
    "\n",
    "    arr2d = np.full((n, n), fill, dtype=float)\n",
    "\n",
    "    # Fill each row with the backward-looking rates\n",
    "    for i in range(n):\n",
    "        arr2d[i, :i+1] = r[i::-1]\n",
    "\n",
    "    # Put into big matrix\n",
    "    interest_rate_list[0:n, :n] = arr2d\n",
    "\n",
    "    # Compute beta\n",
    "    beta = 1.0 / (1.0 + interest_rate_list)\n",
    "\n",
    "    cumprod_ext = np.ones((30,31))\n",
    "    cumprod_ext[:,1:] = np.cumprod(beta,axis=1)\n",
    "    beta_prod = cumprod_ext[:,tvals] \n",
    "\n",
    "    tprod_array = np.array((beta_prod * 0.9018018) * (((tvals + N_array))*np.ones((30,269)) ))\n",
    "    prod_shock = np.ones((30,269))\n",
    "    inside = 1/(tprod_array)**(sigma-1)\n",
    "    A_prod = np.sum( inside,axis = 1)**(1/(sigma-1))\n",
    "\n",
    "    i_path = np.ones(T)*(1/(beta_hh)-1)  # fixed nominal rate\n",
    "    i_path[0:sequence_length] = r_arrange[k]  \n",
    "    abar = np.log(A_prod)  # log productivity sequence\n",
    "\n",
    "    demand = np.zeros(T)\n",
    "    dA = np.zeros(T)\n",
    "    dA[1:] = abar[1:] - abar[:-1]\n",
    "\n",
    "    demand[0] = -0.01  # initial demand shock\n",
    "    c,pi = euler_path_fixed_wages(i_path, abar, theta=1.0,demand_level=demand)\n",
    "    deviation_gap[k] = np.sum((c )**2) + np.sum(pi**2)  \n",
    "    C_consumption[k, :len(c)] = c.flatten() \n",
    "    k = k+1"
   ]
  },
  {
   "cell_type": "code",
   "execution_count": null,
   "id": "4a4fd3ac",
   "metadata": {},
   "outputs": [],
   "source": [
    "target = np.array([0.01]*sequence_length)\n",
    "\n",
    "matches = np.all(np.isclose(r_arrange, target), axis=1)"
   ]
  },
  {
   "cell_type": "code",
   "execution_count": null,
   "id": "abf73242",
   "metadata": {},
   "outputs": [
    {
     "data": {
      "text/plain": [
       "array([20439])"
      ]
     },
     "execution_count": 73,
     "metadata": {},
     "output_type": "execute_result"
    }
   ],
   "source": [
    "argmins_gap = np.where(deviation_gap == np.min(deviation_gap))[0]\n",
    "argmins_gap"
   ]
  },
  {
   "cell_type": "code",
   "execution_count": null,
   "id": "cad82d3a",
   "metadata": {},
   "outputs": [
    {
     "data": {
      "text/plain": [
       "array([[0.005 , 0.0075, 0.01  , 0.0075, 0.01  , 0.0075]])"
      ]
     },
     "execution_count": 74,
     "metadata": {},
     "output_type": "execute_result"
    }
   ],
   "source": [
    "r_arrange[argmins_gap]"
   ]
  },
  {
   "cell_type": "code",
   "execution_count": null,
   "id": "913e6a22",
   "metadata": {},
   "outputs": [
    {
     "data": {
      "image/png": "[encoded data removed]",
      "text/plain": [
       "<Figure size 640x480 with 1 Axes>"
      ]
     },
     "metadata": {},
     "output_type": "display_data"
    }
   ],
   "source": [
    "plt.plot( C_consumption[argmins_gap, :10].T, label='Fixed')\n",
    "plt.plot( C_consumption[matches, :10].T, label='original' )\n",
    "\n",
    "\n",
    "plt.legend()\n",
    "plt.title('1 percent decrease in demand')\n",
    "plt.xlabel('Time')\n",
    "plt.ylabel('Normalized Output') \n",
    "plt.show()"
   ]
  },
  {
   "cell_type": "code",
   "execution_count": 63,
   "id": "7e6a1504",
   "metadata": {},
   "outputs": [],
   "source": [
    "import numpy as np\n",
    "\n",
    "def find_duplicate_indices_per_row(arr, tol=0.0):\n",
    "    \"\"\"\n",
    "    arr : (R, C) array\n",
    "    tol : tolerance for considering two values equal (0.0 means exact match)\n",
    "\n",
    "    Returns:\n",
    "      list of length R; each item is a list of column indices that are in duplicate groups\n",
    "    \"\"\"\n",
    "    dup_indices = []\n",
    "    for row in arr:\n",
    "        if tol > 0:\n",
    "            # use tolerance\n",
    "            idxs = []\n",
    "            for i in range(len(row)):\n",
    "                for j in range(i+1, len(row)):\n",
    "                    if abs(row[i] - row[j]) <= tol:\n",
    "                        idxs.extend([i, j])\n",
    "            dup_indices.append(sorted(set(idxs)))\n",
    "        else:\n",
    "            # exact match\n",
    "            vals, inv, counts = np.unique(row, return_inverse=True, return_counts=True)\n",
    "            dups = np.where(counts > 1)[0]            # values that repeat\n",
    "            cols = np.where(np.isin(inv, dups))[0]    # col indices of those values\n",
    "            dup_indices.append(cols.tolist())\n",
    "    return dup_indices"
   ]
  },
  {
   "cell_type": "code",
   "execution_count": 62,
   "id": "93f8982a",
   "metadata": {},
   "outputs": [],
   "source": [
    "ccccc = 0.9018018"
   ]
  },
  {
   "cell_type": "code",
   "execution_count": 64,
   "id": "b8ffdd0a",
   "metadata": {},
   "outputs": [],
   "source": [
    "jjjjj=0\n",
    "T=30\n",
    "deviation_gap = np.zeros((size, 1))\n",
    "C_consumption = np.zeros((size, 30))\n",
    "N_array = np.array(N)\n",
    "\n",
    "# Compute tprod using product of first tau betas\n",
    "tau_int = tau.astype(int)    \n",
    "tvals = tau_int.to_numpy()\n",
    "for r in r_arrange: \n",
    "\n",
    "    interest_rate_list = np.ones((T,T)) * 0.01\n",
    "    # Start with all rows = base\n",
    "\n",
    "    n = len(r_arrange[jjjjj])\n",
    "    r = np.asarray(r_arrange[jjjjj], dtype=float)\n",
    "    fill = 0.01\n",
    "\n",
    "    arr2d = np.full((n, n), fill, dtype=float)\n",
    "\n",
    "    # Fill each row with the backward-looking rates\n",
    "    for i in range(n):\n",
    "        arr2d[i, :i+1] = r[i::-1]\n",
    "\n",
    "    # Put into big matrix\n",
    "    interest_rate_list[0:n, :n] = arr2d\n",
    "\n",
    "    # Compute beta\n",
    "    beta = 1.0 / (1.0 + interest_rate_list)* ccccc\n",
    "\n",
    "    cumprod_ext = np.ones((T,T+1))\n",
    "    cumprod_ext[:,1:] = np.cumprod(beta,axis=1)\n",
    "    tau_list = np.linspace(0, T, T+1)\n",
    "    time_list_stuff = tau_list*np.ones((T,T+1))\n",
    "    tprod = (cumprod_ext )[:, :, None] * (time_list_stuff[:, :, None] + np.array(N)[None, None, :])\n",
    "    tprod_array = np.array(tprod)\n",
    "\n",
    "    # idx_max will be (30, 269), giving the best column index for each (i, k)\n",
    "    idx_max = np.argmax(tprod_array, axis=1)  # axis=1 corresponds to the 31 columns\n",
    "\n",
    "    # Now gather the max values\n",
    "    max_vals = np.max(tprod, axis=1)    # shape (30, 269)\n",
    "\n",
    "    tau_best = idx_max\n",
    "\n",
    "\n",
    "    time_period=np.linspace(0,29,30)*np.ones_like(tau_best).T\n",
    "    tau_timing= tau_best.T + time_period\n",
    "    Productivity = np.zeros((len(tau_timing), 30))\n",
    "    Productivity = max_vals.T\n",
    "    shocky = 1\n",
    "\n",
    "\n",
    "    duplicates = find_duplicate_indices_per_row(tau_timing)\n",
    "    for i in range(len(tau_timing)):\n",
    "        k = 0\n",
    "        for j in tau_timing[i,tau_timing[i,:]<30]:\n",
    "            if k in duplicates[i]:\n",
    "                for kkk in duplicates[i]:\n",
    "                    if tau_timing[i,kkk] == j:\n",
    "                        if k == 0:\n",
    "                            big=shocky* max_vals[k,i] > max_vals[kkk,i]\n",
    "                            if big == True:\n",
    "                                Productivity[i,int(j)] = shocky* max_vals[k,i]\n",
    "                                Productivity[i,int(tau_timing[i,kkk])] = 0\n",
    "                            else:\n",
    "                                Productivity[i,int(j)] = 0\n",
    "                        else:\n",
    "                            big= max_vals[k,i] > max_vals[kkk,i]\n",
    "                            if big == True:\n",
    "                                Productivity[i,int(tau_timing[i,kkk])] = 0\n",
    "                            else:\n",
    "                                Productivity[i,int(j)] = 0\n",
    "            else:\n",
    "                if k ==0:\n",
    "                    Productivity[i,int(j)] = shocky* max_vals[k,i]\n",
    "            k = k+1\n",
    "    A_prod = 1/np.sum( (Productivity)**(sigma-1),axis = 0)**(1/(sigma-1))\n",
    "    \n",
    "    i_path = np.ones(T)*(1/(beta_hh)-1)  # fixed nominal rate\n",
    "    i_path[0:sequence_length] = r_arrange[jjjjj]  \n",
    "    abar = np.log(A_prod)  # log productivity sequence\n",
    "    demand = np.zeros(T)\n",
    "    dA = np.zeros(T)\n",
    "    dA[1:] = abar[1:] - abar[:-1]\n",
    "\n",
    "    demand[0] = -0.01  # initial demand shock\n",
    "    c,pi = euler_path_fixed_wages(i_path, abar, theta=1.0,demand_level=demand)\n",
    "    \n",
    "    deviation_gap[jjjjj] = np.sum((c )**2)  + np.sum((pi)**2)\n",
    "    C_consumption[jjjjj, :len(c)] = c.flatten() \n",
    "    jjjjj = jjjjj+1"
   ]
  },
  {
   "cell_type": "code",
   "execution_count": 65,
   "id": "89c45b1c",
   "metadata": {},
   "outputs": [],
   "source": [
    "target = np.array([0.01]*sequence_length)\n",
    "\n",
    "matches = np.all(np.isclose(r_arrange, target), axis=1)"
   ]
  },
  {
   "cell_type": "code",
   "execution_count": 66,
   "id": "4e526003",
   "metadata": {},
   "outputs": [
    {
     "data": {
      "text/plain": [
       "array([6220])"
      ]
     },
     "execution_count": 66,
     "metadata": {},
     "output_type": "execute_result"
    }
   ],
   "source": [
    "argmins_gap = np.where(deviation_gap == np.min(deviation_gap))[0]\n",
    "argmins_gap"
   ]
  },
  {
   "cell_type": "code",
   "execution_count": 67,
   "id": "cdd64752",
   "metadata": {},
   "outputs": [
    {
     "data": {
      "text/plain": [
       "array([[0.01, 0.01, 0.01, 0.01, 0.01]])"
      ]
     },
     "execution_count": 67,
     "metadata": {},
     "output_type": "execute_result"
    }
   ],
   "source": [
    "r_arrange[argmins_gap]"
   ]
  },
  {
   "cell_type": "code",
   "execution_count": 68,
   "id": "c504e90c",
   "metadata": {},
   "outputs": [
    {
     "data": {
      "image/png": "[encoded data removed]",
      "text/plain": [
       "<Figure size 640x480 with 1 Axes>"
      ]
     },
     "metadata": {},
     "output_type": "display_data"
    }
   ],
   "source": [
    "plt.plot( C_consumption[argmins_gap, :20].T, label='Full')\n",
    "plt.plot( C_consumption[matches, :20].T, label='Original' )\n",
    "\n",
    "plt.legend()\n",
    "plt.title('1 percent decrease in demand')\n",
    "plt.xlabel('Time')\n",
    "plt.ylabel('Normalized Output') \n",
    "plt.show()"
   ]
  },
  {
   "cell_type": "code",
   "execution_count": null,
   "id": "14a3698c",
   "metadata": {},
   "outputs": [],
   "source": []
  }
 ],
 "metadata": {
  "kernelspec": {
   "display_name": "base",
   "language": "python",
   "name": "python3"
  },
  "language_info": {
   "codemirror_mode": {
    "name": "ipython",
    "version": 3
   },
   "file_extension": ".py",
   "mimetype": "text/x-python",
   "name": "python",
   "nbconvert_exporter": "python",
   "pygments_lexer": "ipython3",
   "version": "3.10.14"
  }
 },
 "nbformat": 4,
 "nbformat_minor": 5
}
