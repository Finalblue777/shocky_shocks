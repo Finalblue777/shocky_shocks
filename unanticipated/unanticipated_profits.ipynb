{
 "cells": [
  {
   "cell_type": "code",
   "execution_count": 106,
   "metadata": {},
   "outputs": [],
   "source": [
    "import numpy as np\n",
    "import math as mp\n",
    "import pandas as pd"
   ]
  },
  {
   "cell_type": "code",
   "execution_count": 107,
   "metadata": {},
   "outputs": [],
   "source": [
    "import numpy as np\n",
    "\n",
    "def generate_pattern_array_with_extra_rows(tau):\n",
    "    # 1) Create the original n×n pattern\n",
    "    n = len(tau)+ int(np.min(tau))\n",
    "    m = int(np.max(tau)) + int(np.min(tau))\n",
    "\n",
    "    mx = int(max(tau))\n",
    "    missing_count = len(set(range(int(max(tau) )+ 1)) - set(tau))\n",
    "    print(missing_count)\n",
    "\n",
    "\n",
    "    A = np.ones((m+2, n+missing_count), dtype=float)\n",
    "    count = 0\n",
    "    for i in range(1, m+2):\n",
    "        for j in range(len(tau[tau == i-1])):\n",
    "            A[i, n- i-j - count] = 0.95  # 0.9 shifts diagonally from right to left as we go down\n",
    "        if len(tau[tau == i-1]) > 1:\n",
    "            count += len(tau[tau == i-1])-1\n",
    "    # 2) Create the two extra rows:\n",
    "    #    (a) one row with 0.9 at the leftmost column,\n",
    "    #    (b) one row of all ones.\n",
    "\n",
    "    row_all_ones = np.ones(n+missing_count, dtype=float)\n",
    "    A_extended = np.vstack([A,row_all_ones])\n",
    "    A_extended = A_extended[:,0:n - int(np.min(tau))]\n",
    "\n",
    "    return A_extended"
   ]
  },
  {
   "cell_type": "code",
   "execution_count": 133,
   "metadata": {},
   "outputs": [],
   "source": [
    "# Some parameter initialization. \n",
    "sigma = 5\n",
    "beta = 0.8\n",
    "W = 1\n",
    "n=np.linspace(1,0,2)"
   ]
  },
  {
   "cell_type": "code",
   "execution_count": 134,
   "metadata": {},
   "outputs": [
    {
     "name": "stdout",
     "output_type": "stream",
     "text": [
      "0\n"
     ]
    },
    {
     "data": {
      "text/html": [
       "<div>\n",
       "<style scoped>\n",
       "    .dataframe tbody tr th:only-of-type {\n",
       "        vertical-align: middle;\n",
       "    }\n",
       "\n",
       "    .dataframe tbody tr th {\n",
       "        vertical-align: top;\n",
       "    }\n",
       "\n",
       "    .dataframe thead th {\n",
       "        text-align: right;\n",
       "    }\n",
       "</style>\n",
       "<table border=\"1\" class=\"dataframe\">\n",
       "  <thead>\n",
       "    <tr style=\"text-align: right;\">\n",
       "      <th></th>\n",
       "      <th>0</th>\n",
       "      <th>1</th>\n",
       "    </tr>\n",
       "  </thead>\n",
       "  <tbody>\n",
       "    <tr>\n",
       "      <th>0</th>\n",
       "      <td>1.00</td>\n",
       "      <td>1.00</td>\n",
       "    </tr>\n",
       "    <tr>\n",
       "      <th>1</th>\n",
       "      <td>1.00</td>\n",
       "      <td>0.95</td>\n",
       "    </tr>\n",
       "    <tr>\n",
       "      <th>2</th>\n",
       "      <td>0.95</td>\n",
       "      <td>1.00</td>\n",
       "    </tr>\n",
       "    <tr>\n",
       "      <th>3</th>\n",
       "      <td>1.00</td>\n",
       "      <td>1.00</td>\n",
       "    </tr>\n",
       "  </tbody>\n",
       "</table>\n",
       "</div>"
      ],
      "text/plain": [
       "      0     1\n",
       "0  1.00  1.00\n",
       "1  1.00  0.95\n",
       "2  0.95  1.00\n",
       "3  1.00  1.00"
      ]
     },
     "execution_count": 134,
     "metadata": {},
     "output_type": "execute_result"
    }
   ],
   "source": [
    "# Example usage:\n",
    "A   = generate_pattern_array_with_extra_rows(n)\n",
    "pd.DataFrame(A)"
   ]
  },
  {
   "cell_type": "code",
   "execution_count": 151,
   "metadata": {},
   "outputs": [],
   "source": [
    "tprod1 = beta**n* A[0,:]\n",
    "# Solve for SS\n",
    "PSS = (np.sum((1/(tprod1))**(1-sigma)))\n",
    "y_ss = ((1/(tprod1))/PSS)**(-1/sigma) \n",
    "y_ss = np.sum(y_ss)/np.sum(y_ss) \n"
   ]
  },
  {
   "cell_type": "code",
   "execution_count": 141,
   "metadata": {},
   "outputs": [
    {
     "name": "stdout",
     "output_type": "stream",
     "text": [
      "Step 1 - Successfully converged\n",
      "Profits: 1.559937\n",
      "Final prices: [3.15361881 0.95      ]\n",
      "\n"
     ]
    }
   ],
   "source": [
    "from scipy import optimize\n",
    "\n",
    "def equilibrium_conditions(p_free, p_fixed, y_ss, beta_n, sigma):\n",
    "    \"\"\"Define equilibrium conditions that should be satisfied.\"\"\"\n",
    "    # Combine free and fixed prices\n",
    "    p = np.concatenate([p_free, p_fixed])\n",
    "    \n",
    "    # Compute price index\n",
    "    P = (np.sum(p**(1-sigma)))**(1/(1-sigma))\n",
    "    \n",
    "    # Compute profits using the free prices\n",
    "    revenue = np.sum(p_free * beta_n[:len(p_free)] * y_ss[:len(p_free)])\n",
    "    costs = np.sum(y_ss[:len(p_free)])\n",
    "    profits = revenue - costs\n",
    "    \n",
    "    # Equilibrium conditions: price should equal marginal cost adjusted by markup\n",
    "    target_prices = ((1 + profits))* np.sum(p**(1-sigma)) * y_ss[:len(p_free)]**(-1/sigma)\n",
    "    \n",
    "    # Return deviations from equilibrium\n",
    "    return p_free - target_prices\n",
    "\n",
    "# Initialize arrays for results\n",
    "p_path = np.zeros((len(n)+1, int(np.max(n))+1))\n",
    "p_path[0,:] = (1/(tprod1))\n",
    "p_path[-1:] = (1/(tprod1))\n",
    "nonge_profits = np.zeros((len(n)+1,))\n",
    "nonge_profits[0] = 0\n",
    "\n",
    "# Solve for each time step\n",
    "for i in range(1, len(n)):\n",
    "    # Get steady state prices for fixed portion\n",
    "    p_ss = 1/(beta**n )* A[i,:]\n",
    "    p_fixed = p_ss[-i:]\n",
    "    \n",
    "    # Initial guess for free prices (use ones)\n",
    "    p_guess = np.ones(len(n) - i)\n",
    "    \n",
    "    try:\n",
    "        # Solve the system using root finding\n",
    "        result = optimize.root(\n",
    "            lambda x: equilibrium_conditions(x, p_fixed, y_ss, beta**n, sigma),\n",
    "            p_guess,\n",
    "            method='hybr',\n",
    "            options={'xtol': 1e-8, 'maxfev': 10000}\n",
    "        )\n",
    "        \n",
    "        if result.success:\n",
    "            # Construct full price vector\n",
    "            p = np.concatenate([result.x, p_fixed])\n",
    "            \n",
    "            # Compute final profits\n",
    "            revenue = np.sum(result.x * (beta**n)[:-i] * y_ss[:-i])\n",
    "            costs = np.sum(y_ss[:-i])\n",
    "            profits = revenue - costs\n",
    "            \n",
    "            nonge_profits[i] = profits\n",
    "            p_path[i,:] = p\n",
    "            \n",
    "            print(f\"Step {i} - Successfully converged\")\n",
    "            print(f\"Profits: {profits:.6f}\")\n",
    "            print(f\"Final prices: {p}\\n\")\n",
    "        else:\n",
    "            print(f\"Step {i} - Failed to converge: {result.message}\")\n",
    "            # Use previous solution as fallback\n",
    "            p_path[i,:] = p_path[i-1,:]\n",
    "            nonge_profits[i] = nonge_profits[i-1]\n",
    "            \n",
    "    except Exception as e:\n",
    "        print(f\"Step {i} - Error occurred: {str(e)}\")\n",
    "        # Use previous solution as fallback\n",
    "        p_path[i,:] = p_path[i-1,:]\n",
    "        nonge_profits[i] = nonge_profits[i-1]"
   ]
  },
  {
   "cell_type": "code",
   "execution_count": 142,
   "metadata": {},
   "outputs": [
    {
     "data": {
      "text/plain": [
       "array([0.        , 1.55993733, 0.        ])"
      ]
     },
     "execution_count": 142,
     "metadata": {},
     "output_type": "execute_result"
    }
   ],
   "source": [
    "nonge_profits"
   ]
  },
  {
   "cell_type": "code",
   "execution_count": 143,
   "metadata": {},
   "outputs": [
    {
     "data": {
      "text/plain": [
       "array([1.08961726, 1.05479199, 1.08961726])"
      ]
     },
     "execution_count": 143,
     "metadata": {},
     "output_type": "execute_result"
    }
   ],
   "source": [
    "1/(np.sum(p_path**(1-sigma),axis =1))**(1/(1-sigma))"
   ]
  },
  {
   "cell_type": "code",
   "execution_count": 147,
   "metadata": {},
   "outputs": [
    {
     "data": {
      "image/png": "[encoded data removed]",
      "text/plain": [
       "<Figure size 640x480 with 1 Axes>"
      ]
     },
     "metadata": {},
     "output_type": "display_data"
    }
   ],
   "source": [
    "P0 = (np.sum(p_path**(1-sigma),axis =1))**(1/(1-sigma))\n",
    "    \n",
    "import matplotlib.pyplot as plt\n",
    "plt.plot( ((1+nonge_profits)/P0), label='unanticipated')\n",
    "\n",
    "plt.xlabel('t')\n",
    "plt.ylabel('Normalized Output')\n",
    "plt.title('Unanticipated')\n",
    "plt.legend()\n",
    "plt.show()"
   ]
  },
  {
   "cell_type": "code",
   "execution_count": null,
   "metadata": {},
   "outputs": [],
   "source": []
  },
  {
   "cell_type": "code",
   "execution_count": null,
   "metadata": {},
   "outputs": [],
   "source": []
  },
  {
   "cell_type": "code",
   "execution_count": null,
   "metadata": {},
   "outputs": [],
   "source": []
  },
  {
   "cell_type": "code",
   "execution_count": null,
   "metadata": {},
   "outputs": [],
   "source": []
  }
 ],
 "metadata": {
  "kernelspec": {
   "display_name": "base",
   "language": "python",
   "name": "python3"
  },
  "language_info": {
   "codemirror_mode": {
    "name": "ipython",
    "version": 3
   },
   "file_extension": ".py",
   "mimetype": "text/x-python",
   "name": "python",
   "nbconvert_exporter": "python",
   "pygments_lexer": "ipython3",
   "version": "3.10.14"
  }
 },
 "nbformat": 4,
 "nbformat_minor": 2
}
