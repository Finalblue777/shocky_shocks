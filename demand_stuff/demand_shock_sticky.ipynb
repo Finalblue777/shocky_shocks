{
 "cells": [
  {
   "cell_type": "code",
   "execution_count": 1,
   "id": "8bbb8a59",
   "metadata": {},
   "outputs": [],
   "source": [
    "import numpy as np\n",
    "import math as mp\n",
    "import pandas as pd\n",
    "import matplotlib.pyplot as plt"
   ]
  },
  {
   "cell_type": "code",
   "execution_count": 2,
   "id": "ac674388",
   "metadata": {},
   "outputs": [],
   "source": [
    "gamma = 1\n",
    "eta = 2\n",
    "sigma = 5\n",
    "beta_hh = 0.99\n",
    "r = 0.01\n",
    "beta = 1 /( 1.0 +r)\n",
    "beta1 =1/( (1.0 +r* np.exp(30/(36.5*0.9)))) \n",
    "W = 1\n",
    "power = (1+eta)/(-gamma-eta)\n",
    "mu = 0.1"
   ]
  },
  {
   "cell_type": "code",
   "execution_count": 3,
   "id": "010784e1",
   "metadata": {},
   "outputs": [
    {
     "name": "stderr",
     "output_type": "stream",
     "text": [
      "/var/folders/26/bmvk0hrd5xbgcvl_s6s42rf80000gn/T/ipykernel_948/2291322681.py:6: RuntimeWarning: divide by zero encountered in log\n",
      "  N = -(data_tau) - 1/np.log(beta*c)\n",
      "/var/folders/26/bmvk0hrd5xbgcvl_s6s42rf80000gn/T/ipykernel_948/2291322681.py:7: RuntimeWarning: divide by zero encountered in log\n",
      "  tau1= -1/np.log(beta*c) - N\n",
      "/var/folders/26/bmvk0hrd5xbgcvl_s6s42rf80000gn/T/ipykernel_948/2291322681.py:9: RuntimeWarning: divide by zero encountered in log\n",
      "  tau2= -1/np.log(beta1*c) - N\n"
     ]
    },
    {
     "data": {
      "image/png": "[encoded data removed]",
      "text/plain": [
       "<Figure size 640x480 with 1 Axes>"
      ]
     },
     "metadata": {},
     "output_type": "display_data"
    }
   ],
   "source": [
    "data=pd.read_csv('APP_data_usa_goods.csv', index_col=0, parse_dates=True, infer_datetime_format=True)\n",
    "data_tau=(data['invtCogsRatio']* 36.5/(30*0.1))\n",
    "tau_diff = np.zeros(( 1000,1))\n",
    "i = 0\n",
    "for c in np.linspace(0, 0.99, 1000): \n",
    "    N = -(data_tau) - 1/np.log(beta*c) \n",
    "    tau1= -1/np.log(beta*c) - N\n",
    "    tau1[tau1<0] = 0     \n",
    "    tau2= -1/np.log(beta1*c) - N\n",
    "    tau2[tau2<0] = 0    \n",
    "    tau_diff[i] = np.mean(np.abs(tau1-tau2))\n",
    "    i = i+1\n",
    "\n",
    "min_val = np.min(np.abs(tau_diff-1))\n",
    "argmins = np.where(np.abs(tau_diff-1) == min_val)[0]\n",
    "argmins\n",
    "c_list = np.linspace(0, 0.99, 1000)\n",
    "c=c_list[argmins]\n",
    "N=-data_tau - 1/np.log(beta*c) \n",
    "tau= -1/np.log(beta*c) - N\n",
    "tau[tau<0] = 0  \n",
    "tau_floor = np.floor(tau)\n",
    "tau_ceil = np.ceil(tau)\n",
    "tprod_ceil=  (beta*c)**tau_ceil * (tau_ceil + N)\n",
    "tprod_floor=  (beta*c)**tau_floor * (tau_floor + N)\n",
    "tau[(tprod_ceil-tprod_floor)>0] = tau_ceil[(tprod_ceil-tprod_floor)>0]\n",
    "tau[(tprod_ceil-tprod_floor)<0] = tau_floor[(tprod_ceil-tprod_floor)<0]\n",
    "tau[tau<0] = 0  \n",
    "tprod = (beta*c)**tau * (tau + N)\n",
    "plt.hist(tau, bins = 55, alpha=1, label='tau_noise')\n",
    "plt.xlabel('Time to Produce')\n",
    "plt.ylabel('Frequency')\n",
    "plt.title('Distribution of Time to Produce')\n",
    "plt.show()\n",
    "tau = np.array(tau, dtype=int)"
   ]
  },
  {
   "cell_type": "code",
   "execution_count": 4,
   "id": "9e8658f5",
   "metadata": {},
   "outputs": [],
   "source": [
    "power = (1+eta)/(-gamma-eta)\n",
    "tau1= -1/np.log(beta*c) - N\n",
    "tau1[tau1<0] = 0  \n",
    "tau1_floor = np.floor(tau1)\n",
    "tau1_ceil = np.ceil(tau1)\n",
    "tprod1_ceil=  (beta*c)**tau1_ceil * (tau1_ceil + N)**1\n",
    "tprod1_floor=  (beta*c)**tau1_floor * (tau1_floor + N)**1\n",
    "\n",
    "tau1[(tprod1_ceil-tprod1_floor)>0] = tau1_ceil[(tprod1_ceil-tprod1_floor)>0]\n",
    "tau1[(tprod1_ceil-tprod1_floor)<0] = tau1_floor[(tprod1_ceil-tprod1_floor)<0]\n",
    "tau1[tau1<0] = 0  \n",
    "tprod1 = (beta*c)**tau1 * (tau1 + N)**1\n",
    "\n",
    "tau1 = tau1[::-1]\n",
    "\n",
    "tprod=  np.array((beta*c)**tau1 * (tau1 + N)**1 )  \n",
    "p_ss = 1/tprod1"
   ]
  },
  {
   "cell_type": "code",
   "execution_count": 5,
   "id": "db59f071",
   "metadata": {},
   "outputs": [
    {
     "name": "stdout",
     "output_type": "stream",
     "text": [
      "3.7209301339824474e-06\n",
      "0.03720930133979861\n",
      "0.03720558040966463\n",
      "-0.00037595407268799924\n",
      "0.03720930133979861\n",
      "0.03758525541248661\n",
      "0.00038343390425337603\n",
      "0.03758901431391801\n",
      "0.03720558040966463\n",
      "3.7209301339824474e-06\n",
      "0.03720930133979861\n",
      "0.03720558040966463\n",
      "3.7209301339824474e-06\n",
      "0.03720930133979861\n",
      "0.03720558040966463\n",
      "3.7209301339824474e-06\n",
      "0.03720930133979861\n",
      "0.03720558040966463\n",
      "3.7209301339824474e-06\n",
      "0.03720930133979861\n",
      "0.03720558040966463\n",
      "3.7209301339824474e-06\n",
      "0.03720930133979861\n",
      "0.03720558040966463\n",
      "3.7209301339824474e-06\n",
      "0.03720930133979861\n",
      "0.03720558040966463\n",
      "3.7209301339824474e-06\n",
      "0.03720930133979861\n",
      "0.03720558040966463\n"
     ]
    }
   ],
   "source": [
    "from scipy.optimize import brentq\n",
    "# Constants\n",
    "W = 1 \n",
    "p_ss = np.array(p_ss)\n",
    "P_0 = np.sum(p_ss**(1 - sigma))**(1 / (1 - sigma))\n",
    "C_0 = P_0**power \n",
    "# Initialize result lists\n",
    "W_1_solutions = []\n",
    "P_1_solutions = []\n",
    "C_1_solutions = []\n",
    "C_1_solutions.append(C_0)  # Start with C_0 as the first element\n",
    "P_1_solutions.append(P_0)  # Start with P_0 as the first element\n",
    "W_1_solutions.append(1)\n",
    "# Loop over rows of A\n",
    "theta_list = np.ones(10)\n",
    "theta_list[1] = 0.97\n",
    "for i in range(10):\n",
    "\n",
    "    tprod1 = tprod\n",
    "    P_1R = 1 / tprod1  # scalar\n",
    "    \n",
    "\n",
    "\n",
    "    try:\n",
    "        # Solve\n",
    "        \n",
    "        # Recompute P_1 and C_1 using the solution\n",
    "        term = mu * p_ss**(1 - sigma) + (1 - mu) * P_1R**(1 - sigma) * 1**(1 - sigma)\n",
    "        P_1 = np.sum(term)**(1 / (1 - sigma))\n",
    "        C_1 = (P_1 )**power * theta_list[i]**(1/(gamma + eta))\n",
    "        LHS = (beta_hh * (1 + r)) * P_0 / P_1 * C_1**(-gamma)\n",
    "        print(C_0**(-gamma) - LHS)\n",
    "        print(C_0**(-gamma))\n",
    "        print(LHS)\n",
    "        # Store results\n",
    "        P_1_solutions.append(P_1)\n",
    "        C_1_solutions.append(C_1)\n",
    "\n",
    "        C_0 = C_1\n",
    "        P_0 = P_1\n",
    "        \n",
    "    except ValueError as e:\n",
    "        print(f\"Root-finding failed for i={i}: {e}\")\n",
    "        c.append(np.nan)\n",
    "        P_1_solutions.append(np.nan)\n",
    "        C_1_solutions.append(np.nan)"
   ]
  },
  {
   "cell_type": "code",
   "execution_count": 6,
   "id": "0661f220",
   "metadata": {},
   "outputs": [],
   "source": [
    "pi= []\n",
    "for i in range(len(P_1_solutions)-1 ):\n",
    "    pi.append(P_1_solutions[i+1]/P_1_solutions[i]-1)"
   ]
  },
  {
   "cell_type": "code",
   "execution_count": 7,
   "id": "dbc5f89c",
   "metadata": {},
   "outputs": [
    {
     "data": {
      "text/plain": [
       "<matplotlib.legend.Legend at 0x7fa14c867190>"
      ]
     },
     "execution_count": 7,
     "metadata": {},
     "output_type": "execute_result"
    },
    {
     "data": {
      "image/png": "[encoded data removed]",
      "text/plain": [
       "<Figure size 640x480 with 1 Axes>"
      ]
     },
     "metadata": {},
     "output_type": "display_data"
    }
   ],
   "source": [
    "plt.plot(C_1_solutions/C_1_solutions[0]-1, label='C_1 Solutions')\n",
    "plt.xlabel('Index')\n",
    "plt.ylabel('Normalized Values')\n",
    "plt.title('Normalized C_1 and P_1 Solutions')\n",
    "plt.legend()"
   ]
  },
  {
   "cell_type": "code",
   "execution_count": 47,
   "id": "fcb40c4b",
   "metadata": {},
   "outputs": [],
   "source": [
    "r_arrange = np.linspace(0.009, 0.011, 200)\n",
    "P = np.zeros((20, 200))\n",
    "C = P\n",
    "shock = 1\n",
    "k=0\n",
    "tau_list = {}\n",
    "index_diff_list = {}\n",
    "for r in r_arrange: \n",
    "    beta_org = (1 / (1 + 0.01))*c\n",
    "    tau= -1/np.log(beta_org) - N\n",
    "    tau[tau<0] = 0  \n",
    "    tau_floor = np.floor(tau)\n",
    "    tau_ceil = np.ceil(tau)\n",
    "    tprod_ceil=  beta_org**tau_ceil * (tau_ceil + N)\n",
    "    tprod_floor=  beta_org**tau_floor * (tau_floor + N)\n",
    "    tau[(tprod_ceil-tprod_floor)>0] = tau_ceil[(tprod_ceil-tprod_floor)>0]\n",
    "    tau[(tprod_ceil-tprod_floor)<0] = tau_floor[(tprod_ceil-tprod_floor)<0]\n",
    "    tau[tau<0] = 0 \n",
    "    tprod1=  np.array(beta_org**tau * (tau + N) )  \n",
    "    P0 = (np.sum(1/(tprod1)**(1-sigma)))**(1/(1-sigma)) \n",
    "\n",
    "    beta_rep = (1 / (1 + r))*c\n",
    "    tau_rep= -1/np.log(beta_rep) - N\n",
    "    tau_rep[tau_rep<0] = 0  \n",
    "    tau_rep_floor = np.floor(tau_rep)\n",
    "    tau_rep_ceil = np.ceil(tau_rep)\n",
    "    tprod_ceil=  beta_rep**tau_rep_ceil * (tau_rep_ceil + N)\n",
    "    tprod_floor=  beta_rep**tau_rep_floor * (tau_rep_floor + N)\n",
    "    tau_rep[(tprod_ceil-tprod_floor)>0] = tau_rep_ceil[(tprod_ceil-tprod_floor)>0]\n",
    "    tau_rep[(tprod_ceil-tprod_floor)<0] = tau_rep_floor[(tprod_ceil-tprod_floor)<0]\n",
    "    tau_rep[tau_rep<0] = 0 \n",
    "    tprod_rep=  np.array(beta_rep**tau_rep * (tau_rep + N) )  \n",
    "    P1 = (np.sum(1/(tprod_rep)**(1-sigma)))**(1/(1-sigma)) \n",
    "\n",
    "    P[0, k] = P0\n",
    "    C[0,k] = P0**power\n",
    "    tau_list[k] = np.array(tau_rep)\n",
    "    tau = tau.sort_values()\n",
    "    tau_rep = tau_rep.sort_values()\n",
    "    diff = tau-tau_rep\n",
    "    index_diff=tau_rep[diff !=0].index\n",
    "    index_diff_list[k] = np.sum(index_diff!=0)\n",
    "    \n",
    "    C_0 = P0**power\n",
    "    P_0 = P0\n",
    "\n",
    "    for j in range(0, int(np.max(tau_rep)) + 1):\n",
    "        tau1_temp = pd.Series(tau[tau > j])\n",
    "        tau2_temp = pd.Series(tau_rep[tau_rep <= j])\n",
    "\n",
    "        tau1_temp_df = tau1_temp.to_frame(name='t')\n",
    "        tau1_temp_df['source'] = 'org'\n",
    "\n",
    "        tau2_temp_df = tau2_temp.to_frame(name='t')\n",
    "        tau2_temp_df['source'] = 'rep'\n",
    "\n",
    "        t_temp = pd.concat([tau1_temp_df, tau2_temp_df])\n",
    "\n",
    "        dup_indices = t_temp.index[t_temp.index.duplicated(keep=False)].unique()\n",
    "\n",
    "        keep_rows = []\n",
    "\n",
    "        for i in dup_indices:\n",
    "            rows = t_temp.loc[[i]]\n",
    "            N_temp = N.loc[[i]]\n",
    "            t_org = rows[rows['source'] == 'org']['t'].values[0]\n",
    "            t_rep = rows[rows['source'] == 'rep']['t'].values[0]\n",
    "\n",
    "            tprod_org_temp = beta_org**t_org * (t_org + N_temp)\n",
    "            tprod_rep_temp = beta_rep**t_rep * (t_rep + N_temp)\n",
    "            if i ==j:\n",
    "                tprod_rep_temp = shock*beta_rep**t_rep * (t_rep + N_temp)\n",
    "\n",
    "            # Keep only the row with the higher value\n",
    "            if tprod_org_temp.values >= tprod_rep_temp.values:\n",
    "                keep_rows.append(rows[rows['source'] == 'org'])\n",
    "            else:\n",
    "                keep_rows.append(rows[rows['source'] == 'rep'])\n",
    "\n",
    "        # Drop all duplicates first\n",
    "        t_temp = t_temp[~t_temp.index.isin(dup_indices)]\n",
    "\n",
    "        # Add back only the best ones\n",
    "        if keep_rows:\n",
    "            t_temp = pd.concat([t_temp] + keep_rows)\n",
    "\n",
    "        \n",
    "\n",
    "        # Step 1: Add matching N values\n",
    "        t_temp['N'] = N.loc[t_temp.index].values  # will align correctly by NAICS6 index\n",
    "\n",
    "        # Step 2: Compute t_prod using vectorized logic\n",
    "        beta_vec = t_temp['source'].map({'org': beta_org, 'rep': beta_rep})\n",
    "        A_vec = np.where((t_temp['source'] == 'rep') & (t_temp['t'] == j), shock, 1.0)\n",
    "        t_temp['A'] = A_vec\n",
    "        t_temp['t_prod'] = A_vec * beta_vec ** t_temp['t'] * (t_temp['t'] + t_temp['N'])\n",
    "        \n",
    "        tprod_temp = t_temp['t_prod'].values\n",
    "\n",
    "        full_tau_df = pd.Series(tau).to_frame(name='t')\n",
    "        full_tau_df['source'] = 'org'\n",
    "        full_tau_df.index = tau.index\n",
    "        full_tau_df['t_prod'] = beta_org**full_tau_df['t'] * (full_tau_df['t'] + N) \n",
    "                # Step 3: Build common index (union of both)\n",
    "\n",
    "        # Step 1: Compute 1 / t_prod for both DataFrames\n",
    "        full_tau_df['inv_p_ss'] = 1 / full_tau_df['t_prod']** (1 - sigma)\n",
    "        t_temp['inv_P_1R'] = (1 / t_temp['t_prod']) ** (1 - sigma)\n",
    "\n",
    "        p_ss_by_t = full_tau_df.groupby('t')['inv_p_ss'].sum()\n",
    "        P_1R_by_t = t_temp.groupby('t')['inv_P_1R'].sum()\n",
    "        all_t_vals = sorted(set(p_ss_by_t.index).union(P_1R_by_t.index))\n",
    "\n",
    "        p_ss_by_t = p_ss_by_t.reindex(all_t_vals, fill_value=0)\n",
    "        P_1R_by_t = P_1R_by_t.reindex(all_t_vals, fill_value=0)\n",
    "\n",
    "        p_ss_arr = p_ss_by_t.to_numpy()\n",
    "        P_1R_arr = P_1R_by_t.to_numpy()     \n",
    "\n",
    "        \n",
    "            # Recompute P_1 and C_1 using the solution\n",
    "        term = mu * p_ss_arr + (1 - mu) * P_1R_arr \n",
    "        P_1 = np.sum(term)**( 1 / (1 - sigma))\n",
    "        C_1 = (P_1 / 1)**power\n",
    "            # Store results\n",
    "        P[j + 1, k] = P_1\n",
    "        C[j + 1, k] = C_1\n",
    "        P_0  = P_1\n",
    "        C_0 = C_1\n",
    "    k += 1"
   ]
  },
  {
   "cell_type": "code",
   "execution_count": 48,
   "id": "f678c0ec",
   "metadata": {},
   "outputs": [],
   "source": [
    "k=0\n",
    "deviation_gap = np.zeros((200, 1))\n",
    "for r in r_arrange: \n",
    "    P_temp = P[1:,k]\n",
    "    C_temp = C[1:,k]\n",
    "    P_temp_no_zeros = P_temp[P_temp != 0]\n",
    "    C_temp_no_zeros = C_temp[C_temp != 0]\n",
    "    Y = np.zeros((len(P_temp_no_zeros), 1))\n",
    "    theta_list = np.ones_like(P_temp_no_zeros)\n",
    "    theta_list[1] = 0.97\n",
    "    Y[0] = (C_temp_no_zeros[0])**power * theta_list[0]**(1/(gamma + eta)) / (C_temp_no_zeros[0])**power\n",
    "    Y[1:,0] = (C_temp_no_zeros[1:])**power * theta_list[1:]**(1/(gamma + eta)) / (C_temp_no_zeros[0])**power\n",
    "    wage_inflation = np.zeros(len(P_temp_no_zeros)-1)\n",
    "\n",
    "    for i in range(len(P_temp_no_zeros)-1):\n",
    "        P_0 = P_temp_no_zeros[i]\n",
    "        P_1 = P_temp_no_zeros[i+1]\n",
    "        wage_inflation[i] =    P_1/P_0\n",
    "\n",
    "    deviation_gap[k] = np.sum((Y - 1 )**2)  + np.sum(wage_inflation-1)**2\n",
    "    k = k+1"
   ]
  },
  {
   "cell_type": "code",
   "execution_count": 49,
   "id": "5e2a6c36",
   "metadata": {},
   "outputs": [
    {
     "data": {
      "image/png": "[encoded data removed]",
      "text/plain": [
       "<Figure size 640x480 with 1 Axes>"
      ]
     },
     "metadata": {},
     "output_type": "display_data"
    }
   ],
   "source": [
    "plt.plot(r_arrange,deviation_gap)\n",
    "plt.show()"
   ]
  },
  {
   "cell_type": "code",
   "execution_count": 50,
   "id": "aae62276",
   "metadata": {},
   "outputs": [],
   "source": [
    "argmins_gap = np.where(deviation_gap == np.min(deviation_gap))[0]\n"
   ]
  },
  {
   "cell_type": "code",
   "execution_count": 51,
   "id": "e2cfd286",
   "metadata": {},
   "outputs": [
    {
     "name": "stdout",
     "output_type": "stream",
     "text": [
      "[0.00944221]\n"
     ]
    }
   ],
   "source": [
    "print(r_arrange[argmins_gap])\n"
   ]
  },
  {
   "cell_type": "code",
   "execution_count": null,
   "id": "ee573259",
   "metadata": {},
   "outputs": [],
   "source": []
  },
  {
   "cell_type": "code",
   "execution_count": null,
   "id": "a3dd8fed",
   "metadata": {},
   "outputs": [],
   "source": []
  },
  {
   "cell_type": "code",
   "execution_count": null,
   "id": "2014ff5c",
   "metadata": {},
   "outputs": [],
   "source": []
  },
  {
   "cell_type": "code",
   "execution_count": null,
   "id": "3836f3fa",
   "metadata": {},
   "outputs": [],
   "source": []
  },
  {
   "cell_type": "code",
   "execution_count": null,
   "id": "4f3fc823",
   "metadata": {},
   "outputs": [],
   "source": []
  },
  {
   "cell_type": "code",
   "execution_count": null,
   "id": "79fbb4b0",
   "metadata": {},
   "outputs": [],
   "source": []
  }
 ],
 "metadata": {
  "kernelspec": {
   "display_name": "base",
   "language": "python",
   "name": "python3"
  },
  "language_info": {
   "codemirror_mode": {
    "name": "ipython",
    "version": 3
   },
   "file_extension": ".py",
   "mimetype": "text/x-python",
   "name": "python",
   "nbconvert_exporter": "python",
   "pygments_lexer": "ipython3",
   "version": "3.10.14"
  }
 },
 "nbformat": 4,
 "nbformat_minor": 5
}
