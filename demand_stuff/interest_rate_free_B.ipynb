{
 "cells": [
  {
   "cell_type": "code",
   "execution_count": 264,
   "id": "c394d4a5",
   "metadata": {},
   "outputs": [],
   "source": [
    "import numpy as np\n",
    "import math as mp\n",
    "import pandas as pd\n",
    "import matplotlib.pyplot as plt"
   ]
  },
  {
   "cell_type": "code",
   "execution_count": 265,
   "id": "8b5e7524",
   "metadata": {},
   "outputs": [],
   "source": [
    "gamma = 1\n",
    "eta = 2\n",
    "sigma = 5\n",
    "beta_hh = 0.99\n",
    "r = 0.01\n",
    "beta = 1 /( 1.0 +r)\n",
    "beta1 =1/( (1.0 +r* np.exp(30/(36.5*0.9)))) \n",
    "W = 1\n",
    "power = (1+eta)/(-gamma-eta)\n",
    "mu = 0.1"
   ]
  },
  {
   "cell_type": "code",
   "execution_count": 266,
   "id": "ae491b09",
   "metadata": {},
   "outputs": [
    {
     "name": "stderr",
     "output_type": "stream",
     "text": [
      "/var/folders/26/bmvk0hrd5xbgcvl_s6s42rf80000gn/T/ipykernel_91494/2291322681.py:6: RuntimeWarning: divide by zero encountered in log\n",
      "  N = -(data_tau) - 1/np.log(beta*c)\n",
      "/var/folders/26/bmvk0hrd5xbgcvl_s6s42rf80000gn/T/ipykernel_91494/2291322681.py:7: RuntimeWarning: divide by zero encountered in log\n",
      "  tau1= -1/np.log(beta*c) - N\n",
      "/var/folders/26/bmvk0hrd5xbgcvl_s6s42rf80000gn/T/ipykernel_91494/2291322681.py:9: RuntimeWarning: divide by zero encountered in log\n",
      "  tau2= -1/np.log(beta1*c) - N\n"
     ]
    },
    {
     "data": {
      "image/png": "[encoded data removed]",
      "text/plain": [
       "<Figure size 640x480 with 1 Axes>"
      ]
     },
     "metadata": {},
     "output_type": "display_data"
    }
   ],
   "source": [
    "data=pd.read_csv('APP_data_usa_goods.csv', index_col=0, parse_dates=True, infer_datetime_format=True)\n",
    "data_tau=(data['invtCogsRatio']* 36.5/(30*0.1))\n",
    "tau_diff = np.zeros(( 1000,1))\n",
    "i = 0\n",
    "for c in np.linspace(0, 0.99, 1000): \n",
    "    N = -(data_tau) - 1/np.log(beta*c) \n",
    "    tau1= -1/np.log(beta*c) - N\n",
    "    tau1[tau1<0] = 0     \n",
    "    tau2= -1/np.log(beta1*c) - N\n",
    "    tau2[tau2<0] = 0    \n",
    "    tau_diff[i] = np.mean(np.abs(tau1-tau2))\n",
    "    i = i+1\n",
    "\n",
    "min_val = np.min(np.abs(tau_diff-1))\n",
    "argmins = np.where(np.abs(tau_diff-1) == min_val)[0]\n",
    "argmins\n",
    "c_list = np.linspace(0, 0.99, 1000)\n",
    "c=c_list[argmins]\n",
    "N=-data_tau - 1/np.log(beta*c) \n",
    "tau= -1/np.log(beta*c) - N\n",
    "tau[tau<0] = 0  \n",
    "tau_floor = np.floor(tau)\n",
    "tau_ceil = np.ceil(tau)\n",
    "tprod_ceil=  (beta*c)**tau_ceil * (tau_ceil + N)\n",
    "tprod_floor=  (beta*c)**tau_floor * (tau_floor + N)\n",
    "tau[(tprod_ceil-tprod_floor)>0] = tau_ceil[(tprod_ceil-tprod_floor)>0]\n",
    "tau[(tprod_ceil-tprod_floor)<0] = tau_floor[(tprod_ceil-tprod_floor)<0]\n",
    "tau[tau<0] = 0  \n",
    "tprod = (beta*c)**tau * (tau + N)\n",
    "plt.hist(tau, bins = 55, alpha=1, label='tau_noise')\n",
    "plt.xlabel('Time to Produce')\n",
    "plt.ylabel('Frequency')\n",
    "plt.title('Distribution of Time to Produce')\n",
    "plt.show()\n",
    "tau = np.array(tau, dtype=int)"
   ]
  },
  {
   "cell_type": "code",
   "execution_count": 267,
   "id": "8141444c",
   "metadata": {},
   "outputs": [],
   "source": [
    "\n",
    "def consumption_function(P, theta):\n",
    "    return (P)**power * theta**(1/(gamma+eta))\n",
    "def euler_equation(P_0, P_1, theta_0, theta_1, beta_hh, r):\n",
    "    consumption_growth_comp = (consumption_function(P_1, theta_1) / consumption_function(P_0, theta_0))**((gamma))\n",
    "    price_growth_comp = (P_0 / P_1)* (theta_1/theta_0)\n",
    "    wage_inflation = 1/(consumption_growth_comp / (price_growth_comp *  (beta_hh *   (1+r)) ))\n",
    "    return wage_inflation\n",
    "def price_inflation_ee(P_0, P_1, theta_1, theta_0, beta_hh, r):\n",
    "    consumption_growth_comp = (consumption_function(P_1,theta_1) / consumption_function(P_0, theta_0))**((gamma)) * (theta_1/theta_0)\n",
    "    constants = (beta_hh * (1+r))\n",
    "    price_inflation = 1/ (consumption_growth_comp / constants)\n",
    "    return price_inflation"
   ]
  },
  {
   "cell_type": "code",
   "execution_count": 337,
   "id": "75425cf0",
   "metadata": {},
   "outputs": [
    {
     "name": "stdout",
     "output_type": "stream",
     "text": [
      "(2401, 4)\n"
     ]
    }
   ],
   "source": [
    "import numpy as np\n",
    "import itertools\n",
    "\n",
    "sequence_length = 4\n",
    "r_choice = np.linspace(0, 0.015, 7)  # 6 values from 0 to 0.0125 inclusive\n",
    "\n",
    "# Generate all possible combinations (Cartesian product)\n",
    "all_combinations = list(itertools.product(r_choice, repeat=sequence_length))\n",
    "\n",
    "# Convert to NumPy array\n",
    "big_array = np.array(all_combinations)\n",
    "\n",
    "print(big_array.shape)  # Should be (6^6, 6) = (46656, 6)\n",
    "\n",
    "# Assign to r_arrange\n",
    "r_arrange = big_array\n",
    "size = r_arrange.shape[0]"
   ]
  },
  {
   "cell_type": "code",
   "execution_count": 336,
   "id": "56af2dff",
   "metadata": {},
   "outputs": [
    {
     "data": {
      "text/plain": [
       "array([0.    , 0.0025, 0.005 , 0.0075, 0.01  , 0.0125, 0.015 ])"
      ]
     },
     "execution_count": 336,
     "metadata": {},
     "output_type": "execute_result"
    }
   ],
   "source": [
    "r_choice"
   ]
  },
  {
   "cell_type": "code",
   "execution_count": 269,
   "id": "0687903e",
   "metadata": {},
   "outputs": [],
   "source": [
    "time_length = 20"
   ]
  },
  {
   "cell_type": "code",
   "execution_count": 270,
   "id": "738524f6",
   "metadata": {},
   "outputs": [
    {
     "name": "stderr",
     "output_type": "stream",
     "text": [
      "/var/folders/26/bmvk0hrd5xbgcvl_s6s42rf80000gn/T/ipykernel_91494/3491533080.py:52: FutureWarning: Support for multi-dimensional indexing (e.g. `obj[:, None]`) is deprecated and will be removed in a future version.  Convert to a numpy array before indexing instead.\n",
      "  tau_temp = neg_inv_log_beta[None, :] - N[:, None]\n",
      "/var/folders/26/bmvk0hrd5xbgcvl_s6s42rf80000gn/T/ipykernel_91494/3491533080.py:56: FutureWarning: Support for multi-dimensional indexing (e.g. `obj[:, None]`) is deprecated and will be removed in a future version.  Convert to a numpy array before indexing instead.\n",
      "  tprod_ceil = beta_list**tau_temp_ceil * (tau_temp_ceil + N[:, None])\n",
      "/var/folders/26/bmvk0hrd5xbgcvl_s6s42rf80000gn/T/ipykernel_91494/3491533080.py:57: FutureWarning: Support for multi-dimensional indexing (e.g. `obj[:, None]`) is deprecated and will be removed in a future version.  Convert to a numpy array before indexing instead.\n",
      "  tprod_floor = beta_list**tau_temp_floor * (tau_temp_floor + N[:, None])\n",
      "/var/folders/26/bmvk0hrd5xbgcvl_s6s42rf80000gn/T/ipykernel_91494/3491533080.py:66: FutureWarning: Support for multi-dimensional indexing (e.g. `obj[:, None]`) is deprecated and will be removed in a future version.  Convert to a numpy array before indexing instead.\n",
      "  tprod_temp = beta_prod_matrix * (tau_temp + N[:, None])\n",
      "/var/folders/26/bmvk0hrd5xbgcvl_s6s42rf80000gn/T/ipykernel_91494/3491533080.py:78: FutureWarning: Support for multi-dimensional indexing (e.g. `obj[:, None]`) is deprecated and will be removed in a future version.  Convert to a numpy array before indexing instead.\n",
      "  tau_temp = neg_inv_log_beta[None, :] - N[:, None]\n",
      "/var/folders/26/bmvk0hrd5xbgcvl_s6s42rf80000gn/T/ipykernel_91494/3491533080.py:82: FutureWarning: Support for multi-dimensional indexing (e.g. `obj[:, None]`) is deprecated and will be removed in a future version.  Convert to a numpy array before indexing instead.\n",
      "  tprod_ceil = beta_list**tau_temp_ceil * (tau_temp_ceil + N[:, None])\n",
      "/var/folders/26/bmvk0hrd5xbgcvl_s6s42rf80000gn/T/ipykernel_91494/3491533080.py:83: FutureWarning: Support for multi-dimensional indexing (e.g. `obj[:, None]`) is deprecated and will be removed in a future version.  Convert to a numpy array before indexing instead.\n",
      "  tprod_floor = beta_list**tau_temp_floor * (tau_temp_floor + N[:, None])\n",
      "/var/folders/26/bmvk0hrd5xbgcvl_s6s42rf80000gn/T/ipykernel_91494/3491533080.py:92: FutureWarning: Support for multi-dimensional indexing (e.g. `obj[:, None]`) is deprecated and will be removed in a future version.  Convert to a numpy array before indexing instead.\n",
      "  tprod_temp = beta_prod_matrix * (tau_temp + N[:, None])\n"
     ]
    }
   ],
   "source": [
    "P = np.zeros((time_length, size))\n",
    "C = np.zeros((time_length, size))\n",
    "t_prod = np.zeros((time_length, len(N)))\n",
    "tau_list = np.zeros((time_length, len(N)))\n",
    "\n",
    "k=0\n",
    "beta_org = (1 / (1 + 0.01))*c\n",
    "tau= -1/np.log(beta_org) - N\n",
    "tau[tau<0] = 0  \n",
    "tau_floor = np.floor(tau)\n",
    "tau_ceil = np.ceil(tau)\n",
    "tprod_ceil=  beta_org**tau_ceil * (tau_ceil + N)\n",
    "tprod_floor=  beta_org**tau_floor * (tau_floor + N)\n",
    "tau[(tprod_ceil-tprod_floor)>0] = tau_ceil[(tprod_ceil-tprod_floor)>0]\n",
    "tau[(tprod_ceil-tprod_floor)<0] = tau_floor[(tprod_ceil-tprod_floor)<0]\n",
    "tau[tau<0] = 0 \n",
    "tprod1=  np.array(beta_org**tau * (tau + N) )  \n",
    "P0 = (np.sum(1/(tprod1)**(1-sigma)))**(1/(1-sigma)) \n",
    "tau = np.array(tau, dtype=int)\n",
    "\n",
    "t_prod[0,:] = tprod1\n",
    "tau_list[0,:] = tau\n",
    "\n",
    "for w in range(size): \n",
    "    beta_list = 1/(1+r_arrange[w]) * c\n",
    "    if len(beta_list) < max(tau):  \n",
    "        pad_length = max(tau) - len(beta_list)\n",
    "        beta_list = np.concatenate([beta_list, np.full(pad_length, beta_org)])        \n",
    "    P[0,w] = P0\n",
    "    C[0,w] = P0**power\n",
    "    # Step 2: Compute beta product per tau\n",
    "    t_prod = np.zeros((time_length, len(N)))\n",
    "    tau_list = np.zeros((time_length, len(N)))\n",
    "    beta_original_list = np.zeros((time_length, len(N)))\n",
    "    t_prod_original_list = np.zeros((time_length, len(N)))\n",
    "    tau_list_original_list = np.zeros((time_length, len(N)))\n",
    "    t_prod_original_list[0, :] = tprod1\n",
    "\n",
    "    tau_list_original_list[0, :] = tau\n",
    "    t_prod[0,:] = tprod1\n",
    "    tau_list[0,:] = tau\n",
    "\n",
    "    for j in range(1, time_length):\n",
    "        beta_temp_list = beta_org * np.ones_like(beta_list)  # Initialize with beta_org\n",
    "        for i in range(len(beta_list) - 1, -1, -1):\n",
    "            beta_temp_list[i] = beta_list[i]\n",
    "                # Assume N: shape (T2,), beta_list: shape (T1,) \n",
    "        log_beta = np.log(beta_temp_list)  # shape (T1,)\n",
    "        neg_inv_log_beta = -1.0 / log_beta  # shape (T1,)\n",
    "\n",
    "        # Broadcast to 2D: (T2, T1)\n",
    "        tau_temp = neg_inv_log_beta[None, :] - N[:, None]\n",
    "        tau_temp[tau_temp<0] = 0  \n",
    "        tau_temp_floor = np.floor(tau_temp)\n",
    "        tau_temp_ceil = np.ceil(tau_temp)\n",
    "        tprod_ceil = beta_list**tau_temp_ceil * (tau_temp_ceil + N[:, None])\n",
    "        tprod_floor = beta_list**tau_temp_floor * (tau_temp_floor + N[:, None])\n",
    "        tau_temp[(tprod_ceil-tprod_floor)>0] = tau_temp_ceil[(tprod_ceil-tprod_floor)>0]\n",
    "        tau_temp[(tprod_ceil-tprod_floor)<0] = tau_temp_floor[(tprod_ceil-tprod_floor)<0]\n",
    "        # Now compute beta_prod via cumulative product\n",
    "        cumprod_beta = np.concatenate([[1.0], np.cumprod(beta_temp_list)])  # length t+1\n",
    "        tau_idx = np.clip(tau_temp.astype(int), 0, len(beta_temp_list))     # shape (n x t)\n",
    "        beta_prod_matrix = cumprod_beta[tau_idx]                       # shape (n x t)\n",
    "\n",
    "        # Final tprod using tau_temp and beta_prod\n",
    "        tprod_temp = beta_prod_matrix * (tau_temp + N[:, None])\n",
    "        \n",
    "        tprod_max = np.max(tprod_temp, axis=1)\n",
    "        col_idx = np.argmax(tprod_temp, axis=1)  # which beta index gave the max tprod\n",
    "        tau_selected = tau_temp[np.arange(tprod_temp.shape[0]), col_idx]  # shape (n,)\n",
    "        t_prod_original_list[j, :] = tprod_max\n",
    "        tau_list_original_list[j, :] = tau_selected.astype(int)\n",
    "\n",
    "        log_beta = np.log(beta_list)  # shape (T1,)\n",
    "        neg_inv_log_beta = -1.0 / log_beta  # shape (T1,)\n",
    "\n",
    "        # Broadcast to 2D: (T2, T1)\n",
    "        tau_temp = neg_inv_log_beta[None, :] - N[:, None]\n",
    "        tau_temp[tau_temp<0] = 0  \n",
    "        tau_temp_floor = np.floor(tau_temp)\n",
    "        tau_temp_ceil = np.ceil(tau_temp)\n",
    "        tprod_ceil = beta_list**tau_temp_ceil * (tau_temp_ceil + N[:, None])\n",
    "        tprod_floor = beta_list**tau_temp_floor * (tau_temp_floor + N[:, None])\n",
    "        tau_temp[(tprod_ceil-tprod_floor)>0] = tau_temp_ceil[(tprod_ceil-tprod_floor)>0]\n",
    "        tau_temp[(tprod_ceil-tprod_floor)<0] = tau_temp_floor[(tprod_ceil-tprod_floor)<0]\n",
    "        # Now compute beta_prod via cumulative product\n",
    "        cumprod_beta = np.concatenate([[1.0], np.cumprod(beta_list)])  # length t+1\n",
    "        tau_idx = np.clip(tau_temp.astype(int), 0, len(beta_list))     # shape (n x t)\n",
    "        beta_prod_matrix = cumprod_beta[tau_idx]                       # shape (n x t)\n",
    "\n",
    "        # Final tprod using tau_temp and beta_prod\n",
    "        tprod_temp = beta_prod_matrix * (tau_temp + N[:, None])\n",
    "        \n",
    "        tprod_max = np.max(tprod_temp, axis=1)\n",
    "        col_idx = np.argmax(tprod_temp, axis=1)  # which beta index gave the max tprod\n",
    "        tau_selected = tau_temp[np.arange(tprod_temp.shape[0]), col_idx]  # shape (n,)\n",
    "\n",
    "        tau_list_temp = np.zeros_like(tau_list)\n",
    "        t_prod[j,:] = tprod_max\n",
    "        tau_list[j,:] = tau_selected.astype(int)\n",
    "        beta_list = np.concatenate([beta_list[1:], np.array(beta_org)])\n",
    "\n",
    "    for j in range(1, time_length ):\n",
    "        t_prod_actual = t_prod_original_list[j,:]\n",
    "        for i in range(j):\n",
    "            if tau_list[j,i] < j:\n",
    "                t_prod_actual[i] = t_prod[j,i]\n",
    "            if tau_list[j,i] >=j and tau_list_original_list[j,i] < j:\n",
    "                t_prod_actual[i] = 0\n",
    "\n",
    "        P1 = (np.sum(1/(t_prod_actual)**(1-sigma)))**(1/(1-sigma)) \n",
    "\n",
    "        C[j,w] = P1**power\n",
    "        P[j,w] = P1\n",
    "\n"
   ]
  },
  {
   "cell_type": "code",
   "execution_count": 328,
   "id": "d90a99d5",
   "metadata": {},
   "outputs": [],
   "source": [
    "k=0\n",
    "deviation_gap = np.zeros((size, 1))\n",
    "C_consumption = np.zeros((size, time_length)) \n",
    "for r in r_arrange: \n",
    "    C_temp = C[:,k]\n",
    "    C_temp_no_zeros = C_temp[C_temp != 0]\n",
    "    \n",
    "    Y = np.zeros((len(C_temp_no_zeros), 1))\n",
    "    theta_list = np.ones_like(C_temp_no_zeros)\n",
    "    rho = 0           # Persistence of mean reversion\n",
    "    theta_list = np.zeros(len(C_temp_no_zeros))\n",
    "\n",
    "    theta_list[0] = 1.0             # Initial value\n",
    "    theta_list[1] = 0.95        # Shock at t = 1\n",
    "\n",
    "    for t in range(2, len(C_temp_no_zeros)):\n",
    "        theta_list[t] = rho * theta_list[t - 1] + (1 - rho) * 1.0\n",
    "    Y[0] = (C_temp_no_zeros[0]) * theta_list[0]**(1/(gamma + eta)) \n",
    "    Y[1:,0] = (C_temp_no_zeros[1:]) * theta_list[1:]**(1/(gamma + eta)) \n",
    "    Y = Y/Y[-1]\n",
    "    deviation_gap[k] = np.sum((Y - 1 )**2)  \n",
    "    C_consumption[k, :len(Y)] = Y.flatten()\n",
    "    k = k+1"
   ]
  },
  {
   "cell_type": "code",
   "execution_count": 329,
   "id": "078b6c64",
   "metadata": {},
   "outputs": [
    {
     "data": {
      "text/plain": [
       "array([1.  , 0.95, 1.  , 1.  , 1.  , 1.  , 1.  , 1.  , 1.  , 1.  , 1.  ,\n",
       "       1.  , 1.  , 1.  , 1.  , 1.  , 1.  , 1.  , 1.  , 1.  ])"
      ]
     },
     "execution_count": 329,
     "metadata": {},
     "output_type": "execute_result"
    }
   ],
   "source": [
    "theta_list"
   ]
  },
  {
   "cell_type": "code",
   "execution_count": 330,
   "id": "57aa2c78",
   "metadata": {},
   "outputs": [
    {
     "data": {
      "text/plain": [
       "array([106])"
      ]
     },
     "execution_count": 330,
     "metadata": {},
     "output_type": "execute_result"
    }
   ],
   "source": [
    "argmins_gap = np.where(deviation_gap == np.min(deviation_gap))[0]\n",
    "argmins_gap"
   ]
  },
  {
   "cell_type": "code",
   "execution_count": 331,
   "id": "7ab2fb7e",
   "metadata": {},
   "outputs": [],
   "source": [
    "target = np.array([0.01]*sequence_length)\n",
    "\n",
    "matches = np.all(np.isclose(r_arrange, target), axis=1)"
   ]
  },
  {
   "cell_type": "code",
   "execution_count": 332,
   "id": "4f002e82",
   "metadata": {},
   "outputs": [
    {
     "data": {
      "text/plain": [
       "array([[0.    , 0.005 , 0.0125, 0.01  ]])"
      ]
     },
     "execution_count": 332,
     "metadata": {},
     "output_type": "execute_result"
    }
   ],
   "source": [
    "r_arrange[argmins_gap]"
   ]
  },
  {
   "cell_type": "code",
   "execution_count": 333,
   "id": "10f02a5c",
   "metadata": {},
   "outputs": [
    {
     "data": {
      "text/plain": [
       "array([[1.        , 0.98304757, 1.        , 1.        , 1.        ,\n",
       "        1.        , 1.        , 1.        , 1.        , 1.        ,\n",
       "        1.        , 1.        , 1.        , 1.        , 1.        ,\n",
       "        1.        , 1.        , 1.        , 1.        , 1.        ]])"
      ]
     },
     "execution_count": 333,
     "metadata": {},
     "output_type": "execute_result"
    }
   ],
   "source": [
    "C_consumption[matches]"
   ]
  },
  {
   "cell_type": "code",
   "execution_count": 334,
   "id": "dab3970a",
   "metadata": {},
   "outputs": [
    {
     "data": {
      "image/png": "[encoded data removed]",
      "text/plain": [
       "<Figure size 640x480 with 1 Axes>"
      ]
     },
     "metadata": {},
     "output_type": "display_data"
    }
   ],
   "source": [
    "\n",
    "\n",
    "plt.plot(C_consumption[matches,:19].T, label='Output + Inflation')\n",
    "\n",
    "\n",
    "plt.plot( C_consumption[argmins_gap, :19].T, label='Output')\n",
    "plt.legend(['Output + Inflation', ' Original'])\n",
    "plt.title('1 percent decrease in A')\n",
    "plt.xlabel('Time')\n",
    "plt.ylabel('Normalized Output') \n",
    "plt.show()"
   ]
  },
  {
   "cell_type": "code",
   "execution_count": null,
   "id": "f78977f9",
   "metadata": {},
   "outputs": [],
   "source": []
  }
 ],
 "metadata": {
  "kernelspec": {
   "display_name": "base",
   "language": "python",
   "name": "python3"
  },
  "language_info": {
   "codemirror_mode": {
    "name": "ipython",
    "version": 3
   },
   "file_extension": ".py",
   "mimetype": "text/x-python",
   "name": "python",
   "nbconvert_exporter": "python",
   "pygments_lexer": "ipython3",
   "version": "3.10.14"
  }
 },
 "nbformat": 4,
 "nbformat_minor": 5
}
