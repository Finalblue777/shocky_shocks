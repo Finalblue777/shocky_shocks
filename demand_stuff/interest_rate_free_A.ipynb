{
 "cells": [
  {
   "cell_type": "code",
   "execution_count": 78,
   "id": "dc5f88e1",
   "metadata": {},
   "outputs": [],
   "source": [
    "import numpy as np\n",
    "import math as mp\n",
    "import pandas as pd\n",
    "import matplotlib.pyplot as plt"
   ]
  },
  {
   "cell_type": "code",
   "execution_count": 79,
   "id": "56f9cbd4",
   "metadata": {},
   "outputs": [],
   "source": [
    "gamma = 1\n",
    "eta = 2\n",
    "sigma = 5\n",
    "beta_hh = 0.99\n",
    "r = 0.01\n",
    "beta = 1 /( 1.0 +r)\n",
    "beta1 =1/( (1.0 +r* np.exp(30/(36.5*0.9)))) \n",
    "W = 1\n",
    "power = (1+eta)/(-gamma-eta)\n",
    "mu = 0.1"
   ]
  },
  {
   "cell_type": "code",
   "execution_count": 80,
   "id": "0ac50ff0",
   "metadata": {},
   "outputs": [
    {
     "name": "stderr",
     "output_type": "stream",
     "text": [
      "/var/folders/26/bmvk0hrd5xbgcvl_s6s42rf80000gn/T/ipykernel_88058/2291322681.py:6: RuntimeWarning: divide by zero encountered in log\n",
      "  N = -(data_tau) - 1/np.log(beta*c)\n",
      "/var/folders/26/bmvk0hrd5xbgcvl_s6s42rf80000gn/T/ipykernel_88058/2291322681.py:7: RuntimeWarning: divide by zero encountered in log\n",
      "  tau1= -1/np.log(beta*c) - N\n",
      "/var/folders/26/bmvk0hrd5xbgcvl_s6s42rf80000gn/T/ipykernel_88058/2291322681.py:9: RuntimeWarning: divide by zero encountered in log\n",
      "  tau2= -1/np.log(beta1*c) - N\n"
     ]
    },
    {
     "data": {
      "image/png": "[encoded data removed]",
      "text/plain": [
       "<Figure size 640x480 with 1 Axes>"
      ]
     },
     "metadata": {},
     "output_type": "display_data"
    }
   ],
   "source": [
    "data=pd.read_csv('APP_data_usa_goods.csv', index_col=0, parse_dates=True, infer_datetime_format=True)\n",
    "data_tau=(data['invtCogsRatio']* 36.5/(30*0.1))\n",
    "tau_diff = np.zeros(( 1000,1))\n",
    "i = 0\n",
    "for c in np.linspace(0, 0.99, 1000): \n",
    "    N = -(data_tau) - 1/np.log(beta*c) \n",
    "    tau1= -1/np.log(beta*c) - N\n",
    "    tau1[tau1<0] = 0     \n",
    "    tau2= -1/np.log(beta1*c) - N\n",
    "    tau2[tau2<0] = 0    \n",
    "    tau_diff[i] = np.mean(np.abs(tau1-tau2))\n",
    "    i = i+1\n",
    "\n",
    "min_val = np.min(np.abs(tau_diff-1))\n",
    "argmins = np.where(np.abs(tau_diff-1) == min_val)[0]\n",
    "argmins\n",
    "c_list = np.linspace(0, 0.99, 1000)\n",
    "c=c_list[argmins]\n",
    "N=-data_tau - 1/np.log(beta*c) \n",
    "tau= -1/np.log(beta*c) - N\n",
    "tau[tau<0] = 0  \n",
    "tau_floor = np.floor(tau)\n",
    "tau_ceil = np.ceil(tau)\n",
    "tprod_ceil=  (beta*c)**tau_ceil * (tau_ceil + N)\n",
    "tprod_floor=  (beta*c)**tau_floor * (tau_floor + N)\n",
    "tau[(tprod_ceil-tprod_floor)>0] = tau_ceil[(tprod_ceil-tprod_floor)>0]\n",
    "tau[(tprod_ceil-tprod_floor)<0] = tau_floor[(tprod_ceil-tprod_floor)<0]\n",
    "tau[tau<0] = 0  \n",
    "tprod = (beta*c)**tau * (tau + N)\n",
    "plt.hist(tau, bins = 55, alpha=1, label='tau_noise')\n",
    "plt.xlabel('Time to Produce')\n",
    "plt.ylabel('Frequency')\n",
    "plt.title('Distribution of Time to Produce')\n",
    "plt.show()\n",
    "tau = np.array(tau, dtype=int)"
   ]
  },
  {
   "cell_type": "code",
   "execution_count": 81,
   "id": "ec888ac6",
   "metadata": {},
   "outputs": [
    {
     "name": "stdout",
     "output_type": "stream",
     "text": [
      "(6, 1)\n"
     ]
    }
   ],
   "source": [
    "import numpy as np\n",
    "import itertools\n",
    "\n",
    "sequence_length = 1\n",
    "r_choice = np.linspace(0, 0.0125, 6)  # 6 values from 0 to 0.0125 inclusive\n",
    "\n",
    "# Generate all possible combinations (Cartesian product)\n",
    "all_combinations = list(itertools.product(r_choice, repeat=sequence_length))\n",
    "\n",
    "# Convert to NumPy array\n",
    "big_array = np.array(all_combinations)\n",
    "\n",
    "print(big_array.shape)  # Should be (6^6, 6) = (46656, 6)\n",
    "\n",
    "# Assign to r_arrange\n",
    "r_arrange = big_array\n",
    "size = r_arrange.shape[0]"
   ]
  },
  {
   "cell_type": "code",
   "execution_count": 82,
   "id": "dcbe4d05",
   "metadata": {},
   "outputs": [],
   "source": [
    "time_length = 20"
   ]
  },
  {
   "cell_type": "code",
   "execution_count": 89,
   "id": "7a197e96",
   "metadata": {},
   "outputs": [
    {
     "name": "stderr",
     "output_type": "stream",
     "text": [
      "/var/folders/26/bmvk0hrd5xbgcvl_s6s42rf80000gn/T/ipykernel_88058/1238641296.py:52: FutureWarning: Support for multi-dimensional indexing (e.g. `obj[:, None]`) is deprecated and will be removed in a future version.  Convert to a numpy array before indexing instead.\n",
      "  tau_temp = neg_inv_log_beta[None, :] - N[:, None]\n",
      "/var/folders/26/bmvk0hrd5xbgcvl_s6s42rf80000gn/T/ipykernel_88058/1238641296.py:56: FutureWarning: Support for multi-dimensional indexing (e.g. `obj[:, None]`) is deprecated and will be removed in a future version.  Convert to a numpy array before indexing instead.\n",
      "  tprod_ceil = beta_list**tau_temp_ceil * (tau_temp_ceil + N[:, None])\n",
      "/var/folders/26/bmvk0hrd5xbgcvl_s6s42rf80000gn/T/ipykernel_88058/1238641296.py:57: FutureWarning: Support for multi-dimensional indexing (e.g. `obj[:, None]`) is deprecated and will be removed in a future version.  Convert to a numpy array before indexing instead.\n",
      "  tprod_floor = beta_list**tau_temp_floor * (tau_temp_floor + N[:, None])\n",
      "/var/folders/26/bmvk0hrd5xbgcvl_s6s42rf80000gn/T/ipykernel_88058/1238641296.py:66: FutureWarning: Support for multi-dimensional indexing (e.g. `obj[:, None]`) is deprecated and will be removed in a future version.  Convert to a numpy array before indexing instead.\n",
      "  tprod_temp = beta_prod_matrix * (tau_temp + N[:, None])\n",
      "/var/folders/26/bmvk0hrd5xbgcvl_s6s42rf80000gn/T/ipykernel_88058/1238641296.py:88: FutureWarning: Support for multi-dimensional indexing (e.g. `obj[:, None]`) is deprecated and will be removed in a future version.  Convert to a numpy array before indexing instead.\n",
      "  tau_temp = neg_inv_log_beta[None, :] - N[:, None]\n",
      "/var/folders/26/bmvk0hrd5xbgcvl_s6s42rf80000gn/T/ipykernel_88058/1238641296.py:92: FutureWarning: Support for multi-dimensional indexing (e.g. `obj[:, None]`) is deprecated and will be removed in a future version.  Convert to a numpy array before indexing instead.\n",
      "  tprod_ceil = beta_list**tau_temp_ceil * (tau_temp_ceil + N[:, None])\n",
      "/var/folders/26/bmvk0hrd5xbgcvl_s6s42rf80000gn/T/ipykernel_88058/1238641296.py:93: FutureWarning: Support for multi-dimensional indexing (e.g. `obj[:, None]`) is deprecated and will be removed in a future version.  Convert to a numpy array before indexing instead.\n",
      "  tprod_floor = beta_list**tau_temp_floor * (tau_temp_floor + N[:, None])\n",
      "/var/folders/26/bmvk0hrd5xbgcvl_s6s42rf80000gn/T/ipykernel_88058/1238641296.py:102: FutureWarning: Support for multi-dimensional indexing (e.g. `obj[:, None]`) is deprecated and will be removed in a future version.  Convert to a numpy array before indexing instead.\n",
      "  tprod_temp = beta_prod_matrix * (tau_temp + N[:, None])\n"
     ]
    }
   ],
   "source": [
    "P = np.zeros((time_length, size))\n",
    "C = np.zeros((time_length, size))\n",
    "t_prod = np.zeros((time_length, len(N)))\n",
    "tau_list = np.zeros((time_length, len(N)))\n",
    "shocky =0.99\n",
    "k=0\n",
    "beta_org = (1 / (1 + 0.01))*c\n",
    "tau= -1/np.log(beta_org) - N\n",
    "tau[tau<0] = 0  \n",
    "tau_floor = np.floor(tau)\n",
    "tau_ceil = np.ceil(tau)\n",
    "tprod_ceil=  beta_org**tau_ceil * (tau_ceil + N)\n",
    "tprod_floor=  beta_org**tau_floor * (tau_floor + N)\n",
    "tau[(tprod_ceil-tprod_floor)>0] = tau_ceil[(tprod_ceil-tprod_floor)>0]\n",
    "tau[(tprod_ceil-tprod_floor)<0] = tau_floor[(tprod_ceil-tprod_floor)<0]\n",
    "tau[tau<0] = 0 \n",
    "tprod1=  np.array(beta_org**tau * (tau + N) )  \n",
    "P0 = (np.sum(1/(tprod1)**(1-sigma)))**(1/(1-sigma)) \n",
    "tau = np.array(tau, dtype=int)\n",
    "\n",
    "t_prod[0,:] = tprod1\n",
    "tau_list[0,:] = tau\n",
    "\n",
    "for w in range(size): \n",
    "    beta_list = 1/(1+r_arrange[w]) * c\n",
    "    if len(beta_list) < max(tau):  \n",
    "        pad_length = max(tau) - len(beta_list)\n",
    "        beta_list = np.concatenate([beta_list, np.full(pad_length, beta_org)])        \n",
    "    P[0,w] = P0\n",
    "    C[0,w] = P0**power\n",
    "    # Step 2: Compute beta product per tau\n",
    "    t_prod = np.zeros((time_length, len(N)))\n",
    "    tau_list = np.zeros((time_length, len(N)))\n",
    "    beta_original_list = np.zeros((time_length, len(N)))\n",
    "    t_prod_original_list = np.zeros((time_length, len(N)))\n",
    "    tau_list_original_list = np.zeros((time_length, len(N)))\n",
    "    t_prod_original_list[0, :] = tprod1\n",
    "\n",
    "    tau_list_original_list[0, :] = tau\n",
    "    t_prod[0,:] = tprod1\n",
    "    tau_list[0,:] = tau\n",
    "\n",
    "    for j in range(1, time_length):\n",
    "        beta_temp_list = beta_org * np.ones_like(beta_list)  # Initialize with beta_org\n",
    "        for i in range(len(beta_list) - 1, -1, -1):\n",
    "            beta_temp_list[i] = beta_list[i]\n",
    "                # Assume N: shape (T2,), beta_list: shape (T1,) \n",
    "        log_beta = np.log(beta_temp_list)  # shape (T1,)\n",
    "        neg_inv_log_beta = -1.0 / log_beta  # shape (T1,)\n",
    "\n",
    "        # Broadcast to 2D: (T2, T1)\n",
    "        tau_temp = neg_inv_log_beta[None, :] - N[:, None]\n",
    "        tau_temp[tau_temp<0] = 0  \n",
    "        tau_temp_floor = np.floor(tau_temp)\n",
    "        tau_temp_ceil = np.ceil(tau_temp)\n",
    "        tprod_ceil = beta_list**tau_temp_ceil * (tau_temp_ceil + N[:, None])\n",
    "        tprod_floor = beta_list**tau_temp_floor * (tau_temp_floor + N[:, None])\n",
    "        tau_temp[(tprod_ceil-tprod_floor)>0] = tau_temp_ceil[(tprod_ceil-tprod_floor)>0]\n",
    "        tau_temp[(tprod_ceil-tprod_floor)<0] = tau_temp_floor[(tprod_ceil-tprod_floor)<0]\n",
    "        # Now compute beta_prod via cumulative product\n",
    "        cumprod_beta = np.concatenate([[1.0], np.cumprod(beta_temp_list)])  # length t+1\n",
    "        tau_idx = np.clip(tau_temp.astype(int), 0, len(beta_temp_list))     # shape (n x t)\n",
    "        beta_prod_matrix = cumprod_beta[tau_idx]                       # shape (n x t)\n",
    "\n",
    "        # Final tprod using tau_temp and beta_prod\n",
    "        tprod_temp = beta_prod_matrix * (tau_temp + N[:, None])\n",
    "        \n",
    "        tprod_max = np.max(tprod_temp, axis=1)\n",
    "        col_idx = np.argmax(tprod_temp, axis=1)  # which beta index gave the max tprod\n",
    "        tau_selected = tau_temp[np.arange(tprod_temp.shape[0]), col_idx]  # shape (n,)\n",
    "        if j < np.max(tau_selected):\n",
    "            if j > 1:\n",
    "                tprod_max[tau_list_original_list[1, :] == j-1] = shocky * tprod_max[tau_list_original_list[1, :] == j-1]\n",
    "            else:\n",
    "                tprod_max[tau_selected == j-1] = shocky * tprod_max[tau_selected == j-1]\n",
    "\n",
    "        t_prod_original_list[j, :] = tprod_max\n",
    "        tau_list_original_list[j, :] = tau_selected.astype(int)\n",
    "\n",
    "\n",
    "\n",
    "\n",
    "\n",
    "        log_beta = np.log(beta_list)  # shape (T1,)\n",
    "        neg_inv_log_beta = -1.0 / log_beta  # shape (T1,)\n",
    "\n",
    "        # Broadcast to 2D: (T2, T1)\n",
    "        tau_temp = neg_inv_log_beta[None, :] - N[:, None]\n",
    "        tau_temp[tau_temp<0] = 0  \n",
    "        tau_temp_floor = np.floor(tau_temp)\n",
    "        tau_temp_ceil = np.ceil(tau_temp)\n",
    "        tprod_ceil = beta_list**tau_temp_ceil * (tau_temp_ceil + N[:, None])\n",
    "        tprod_floor = beta_list**tau_temp_floor * (tau_temp_floor + N[:, None])\n",
    "        tau_temp[(tprod_ceil-tprod_floor)>0] = tau_temp_ceil[(tprod_ceil-tprod_floor)>0]\n",
    "        tau_temp[(tprod_ceil-tprod_floor)<0] = tau_temp_floor[(tprod_ceil-tprod_floor)<0]\n",
    "        # Now compute beta_prod via cumulative product\n",
    "        cumprod_beta = np.concatenate([[1.0], np.cumprod(beta_list)])  # length t+1\n",
    "        tau_idx = np.clip(tau_temp.astype(int), 0, len(beta_list))     # shape (n x t)\n",
    "        beta_prod_matrix = cumprod_beta[tau_idx]                       # shape (n x t)\n",
    "\n",
    "        # Final tprod using tau_temp and beta_prod\n",
    "        tprod_temp = beta_prod_matrix * (tau_temp + N[:, None])\n",
    "        \n",
    "        tprod_max = np.max(tprod_temp, axis=1)\n",
    "        col_idx = np.argmax(tprod_temp, axis=1)  # which beta index gave the max tprod\n",
    "        tau_selected = tau_temp[np.arange(tprod_temp.shape[0]), col_idx]  # shape (n,)\n",
    "\n",
    "        tau_list_temp = np.zeros_like(tau_list)\n",
    "        t_prod[j,:] = tprod_max\n",
    "        tau_list[j,:] = tau_selected.astype(int)\n",
    "        beta_list = np.concatenate([beta_list[1:], np.array(beta_org)])\n",
    "\n",
    "    for j in range(1, time_length ):\n",
    "        t_prod_actual = t_prod_original_list[j,:]\n",
    "        for i in range(j):\n",
    "            if tau_list[j,i] < j:\n",
    "                t_prod_actual[i] =shocky* t_prod[j,i]\n",
    "            if tau_list[j,i] >=j and tau_list_original_list[j,i] < j:\n",
    "                t_prod_actual[i] = 0\n",
    "\n",
    "\n",
    "\n",
    "        P1 = (np.sum(1/(t_prod_actual)**(1-sigma)))**(1/(1-sigma)) \n",
    "\n",
    "        C[j,w] = P1**power\n",
    "        P[j,w] = P1"
   ]
  },
  {
   "cell_type": "code",
   "execution_count": 90,
   "id": "5932f8bf",
   "metadata": {},
   "outputs": [],
   "source": [
    "k=0\n",
    "deviation_gap = np.zeros((size, 1))\n",
    "for r in r_arrange: \n",
    "    P_temp = P[1:,k]\n",
    "    C_temp = C[1:,k]\n",
    "    P_temp_no_zeros = P_temp[P_temp != 0]\n",
    "    C_temp_no_zeros = C_temp[C_temp != 0]\n",
    "    Y = np.zeros((len(P_temp_no_zeros), 1))\n",
    "\n",
    "    \n",
    "    \n",
    "    Y = (C_temp_no_zeros) / (C_temp_no_zeros[-1])\n",
    "\n",
    "\n",
    "    deviation_gap[k] = np.sum((Y - 1 )**2)  \n",
    "    k = k+1"
   ]
  },
  {
   "cell_type": "code",
   "execution_count": 91,
   "id": "f9e84f0d",
   "metadata": {},
   "outputs": [
    {
     "data": {
      "text/plain": [
       "array([5])"
      ]
     },
     "execution_count": 91,
     "metadata": {},
     "output_type": "execute_result"
    }
   ],
   "source": [
    "argmins_gap = np.where(deviation_gap == np.min(deviation_gap))[0]\n",
    "argmins_gap"
   ]
  },
  {
   "cell_type": "code",
   "execution_count": 94,
   "id": "3f43d948",
   "metadata": {},
   "outputs": [
    {
     "data": {
      "text/plain": [
       "array([26.80031514, 26.81900402, 26.74859766, 26.81161391, 26.83779777,\n",
       "       26.85500193, 26.8588609 , 26.85672034, 26.85487848, 26.8527035 ,\n",
       "       26.85074057, 26.84875297, 26.84680283, 26.84484855, 26.84291534,\n",
       "       26.84102418, 26.8391744 , 26.83736531, 26.83558623])"
      ]
     },
     "execution_count": 94,
     "metadata": {},
     "output_type": "execute_result"
    }
   ],
   "source": [
    "C_temp_no_zeros"
   ]
  },
  {
   "cell_type": "code",
   "execution_count": 92,
   "id": "17d08b13",
   "metadata": {},
   "outputs": [
    {
     "data": {
      "text/plain": [
       "array([[0.0125]])"
      ]
     },
     "execution_count": 92,
     "metadata": {},
     "output_type": "execute_result"
    }
   ],
   "source": [
    "r_arrange[argmins_gap]"
   ]
  },
  {
   "cell_type": "code",
   "execution_count": 93,
   "id": "0b8f08b0",
   "metadata": {},
   "outputs": [
    {
     "data": {
      "image/png": "[encoded data removed]",
      "text/plain": [
       "<Figure size 640x480 with 1 Axes>"
      ]
     },
     "metadata": {},
     "output_type": "display_data"
    }
   ],
   "source": [
    "C_mask = C[:,argmins_gap]\n",
    "C_mask_no_zeros = C_mask[C_mask != 0]    \n",
    "C_mask_no_zeros = (C_mask_no_zeros) \n",
    "plt.plot( (C_mask_no_zeros[0:])/C_mask_no_zeros[-1], label='Output + Inflation')\n",
    "\n",
    "plt.legend(['Output + Inflation', 'Output', 'Inflation'])\n",
    "plt.title('1 percent decrease in A')\n",
    "plt.xlabel('Time')\n",
    "plt.ylabel('Normalized Output') \n",
    "plt.show()"
   ]
  },
  {
   "cell_type": "code",
   "execution_count": 88,
   "id": "6741a5f9",
   "metadata": {},
   "outputs": [
    {
     "data": {
      "text/plain": [
       "array([[26.87500071],\n",
       "       [26.80031514],\n",
       "       [26.81900402],\n",
       "       [26.74859766],\n",
       "       [26.81161391],\n",
       "       [26.83779777],\n",
       "       [26.85500193],\n",
       "       [26.8588609 ],\n",
       "       [26.85672034],\n",
       "       [26.85487848],\n",
       "       [26.8527035 ],\n",
       "       [26.85074057],\n",
       "       [26.84875297],\n",
       "       [26.84680283],\n",
       "       [26.84484855],\n",
       "       [26.84291534],\n",
       "       [26.84102418],\n",
       "       [26.8391744 ],\n",
       "       [26.83736531],\n",
       "       [26.83558623]])"
      ]
     },
     "execution_count": 88,
     "metadata": {},
     "output_type": "execute_result"
    }
   ],
   "source": [
    "C_mask"
   ]
  },
  {
   "cell_type": "code",
   "execution_count": null,
   "id": "23459811",
   "metadata": {},
   "outputs": [],
   "source": []
  }
 ],
 "metadata": {
  "kernelspec": {
   "display_name": "base",
   "language": "python",
   "name": "python3"
  },
  "language_info": {
   "codemirror_mode": {
    "name": "ipython",
    "version": 3
   },
   "file_extension": ".py",
   "mimetype": "text/x-python",
   "name": "python",
   "nbconvert_exporter": "python",
   "pygments_lexer": "ipython3",
   "version": "3.10.14"
  }
 },
 "nbformat": 4,
 "nbformat_minor": 5
}
