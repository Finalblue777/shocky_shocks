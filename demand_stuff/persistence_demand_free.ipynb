{
 "cells": [
  {
   "cell_type": "code",
   "execution_count": 1,
   "id": "c349d0cf",
   "metadata": {},
   "outputs": [],
   "source": [
    "import numpy as np\n",
    "import math as mp\n",
    "import pandas as pd\n",
    "import matplotlib.pyplot as plt"
   ]
  },
  {
   "cell_type": "code",
   "execution_count": 2,
   "id": "3a796042",
   "metadata": {},
   "outputs": [],
   "source": [
    "gamma = 1\n",
    "eta = 0.5\n",
    "sigma = 5\n",
    "beta_hh = 0.99\n",
    "r = 0.01\n",
    "beta = 1 /( 1.0 +r)\n",
    "beta1 =1/( (1.0 +r* np.exp(30/(36.5*0.9)))) \n",
    "W = 1\n",
    "power = ((1+eta)/(-gamma+eta))"
   ]
  },
  {
   "cell_type": "code",
   "execution_count": 3,
   "id": "7d2e739c",
   "metadata": {},
   "outputs": [
    {
     "name": "stderr",
     "output_type": "stream",
     "text": [
      "/var/folders/26/bmvk0hrd5xbgcvl_s6s42rf80000gn/T/ipykernel_5417/2291322681.py:6: RuntimeWarning: divide by zero encountered in log\n",
      "  N = -(data_tau) - 1/np.log(beta*c)\n",
      "/var/folders/26/bmvk0hrd5xbgcvl_s6s42rf80000gn/T/ipykernel_5417/2291322681.py:7: RuntimeWarning: divide by zero encountered in log\n",
      "  tau1= -1/np.log(beta*c) - N\n",
      "/var/folders/26/bmvk0hrd5xbgcvl_s6s42rf80000gn/T/ipykernel_5417/2291322681.py:9: RuntimeWarning: divide by zero encountered in log\n",
      "  tau2= -1/np.log(beta1*c) - N\n"
     ]
    },
    {
     "data": {
      "image/png": "[encoded data removed]",
      "text/plain": [
       "<Figure size 640x480 with 1 Axes>"
      ]
     },
     "metadata": {},
     "output_type": "display_data"
    }
   ],
   "source": [
    "data=pd.read_csv('APP_data_usa_goods.csv', index_col=0, parse_dates=True, infer_datetime_format=True)\n",
    "data_tau=(data['invtCogsRatio']* 36.5/(30*0.1))\n",
    "tau_diff = np.zeros(( 1000,1))\n",
    "i = 0\n",
    "for c in np.linspace(0, 0.99, 1000): \n",
    "    N = -(data_tau) - 1/np.log(beta*c) \n",
    "    tau1= -1/np.log(beta*c) - N\n",
    "    tau1[tau1<0] = 0     \n",
    "    tau2= -1/np.log(beta1*c) - N\n",
    "    tau2[tau2<0] = 0    \n",
    "    tau_diff[i] = np.mean(np.abs(tau1-tau2))\n",
    "    i = i+1\n",
    "\n",
    "min_val = np.min(np.abs(tau_diff-1))\n",
    "argmins = np.where(np.abs(tau_diff-1) == min_val)[0]\n",
    "argmins\n",
    "c_list = np.linspace(0, 0.99, 1000)\n",
    "c=c_list[argmins]\n",
    "N=-data_tau - 1/np.log(beta*c) \n",
    "tau= -1/np.log(beta*c) - N\n",
    "tau[tau<0] = 0  \n",
    "tau_floor = np.floor(tau)\n",
    "tau_ceil = np.ceil(tau)\n",
    "tprod_ceil=  (beta*c)**tau_ceil * (tau_ceil + N)\n",
    "tprod_floor=  (beta*c)**tau_floor * (tau_floor + N)\n",
    "tau[(tprod_ceil-tprod_floor)>0] = tau_ceil[(tprod_ceil-tprod_floor)>0]\n",
    "tau[(tprod_ceil-tprod_floor)<0] = tau_floor[(tprod_ceil-tprod_floor)<0]\n",
    "tau[tau<0] = 0  \n",
    "tprod = (beta*c)**tau * (tau + N)\n",
    "plt.hist(tau, bins = 55, alpha=1, label='tau_noise')\n",
    "plt.xlabel('Time to Produce')\n",
    "plt.ylabel('Frequency')\n",
    "plt.title('Distribution of Time to Produce')\n",
    "plt.show()\n",
    "tau = np.array(tau, dtype=int)"
   ]
  },
  {
   "cell_type": "code",
   "execution_count": 4,
   "id": "58bab10e",
   "metadata": {},
   "outputs": [],
   "source": [
    "\n",
    "def consumption_function(P, theta):\n",
    "    return (P)**power * theta**(1/(gamma+eta))\n",
    "def euler_equation(P_0, P_1, theta_0, theta_1, beta_hh, r):\n",
    "    consumption_growth_comp = (consumption_function(P_1, theta_1) / consumption_function(P_0, theta_0))**((gamma))\n",
    "    price_growth_comp = (P_0 / P_1)* (theta_1/theta_0)\n",
    "    wage_inflation = 1/(consumption_growth_comp / (price_growth_comp *  (beta_hh *   (1+r)) ))\n",
    "    return wage_inflation\n",
    "def price_inflation_ee(P_0, P_1, theta_1, theta_0, beta_hh, r):\n",
    "    consumption_growth_comp = (consumption_function(P_1,theta_1) / consumption_function(P_0, theta_0))**((gamma)) * (theta_1/theta_0)\n",
    "    constants = (beta_hh * (1+r))\n",
    "    price_inflation = 1/ (consumption_growth_comp / constants)\n",
    "    return price_inflation"
   ]
  },
  {
   "cell_type": "code",
   "execution_count": 5,
   "id": "e1a2141f",
   "metadata": {},
   "outputs": [
    {
     "name": "stdout",
     "output_type": "stream",
     "text": [
      "1\n",
      "2\n",
      "3\n",
      "4\n",
      "5\n",
      "6\n",
      "7\n",
      "8\n",
      "9\n",
      "10\n",
      "11\n",
      "12\n",
      "13\n",
      "14\n",
      "15\n",
      "16\n",
      "17\n",
      "18\n",
      "19\n",
      "20\n",
      "21\n",
      "22\n",
      "23\n",
      "24\n",
      "25\n",
      "26\n",
      "27\n",
      "28\n",
      "29\n",
      "30\n",
      "31\n",
      "32\n",
      "33\n",
      "34\n",
      "35\n",
      "36\n",
      "37\n",
      "38\n",
      "39\n",
      "40\n",
      "41\n",
      "42\n",
      "43\n",
      "44\n",
      "45\n",
      "46\n",
      "47\n",
      "48\n",
      "49\n",
      "50\n",
      "51\n",
      "52\n",
      "53\n",
      "54\n",
      "55\n",
      "56\n",
      "57\n",
      "58\n",
      "59\n",
      "60\n",
      "61\n",
      "62\n",
      "63\n",
      "64\n",
      "65\n",
      "66\n",
      "67\n",
      "68\n",
      "69\n",
      "70\n",
      "71\n",
      "72\n",
      "73\n",
      "74\n",
      "75\n",
      "76\n",
      "77\n",
      "78\n",
      "79\n",
      "80\n",
      "81\n",
      "82\n",
      "83\n",
      "84\n",
      "85\n",
      "86\n",
      "87\n",
      "88\n",
      "89\n",
      "90\n",
      "91\n",
      "92\n",
      "93\n",
      "94\n",
      "95\n",
      "96\n",
      "97\n",
      "98\n",
      "99\n",
      "100\n"
     ]
    }
   ],
   "source": [
    "grid_point = 100\n",
    "r_arrange = np.linspace(0.009, 0.011, grid_point)\n",
    "P = np.zeros((20, grid_point))\n",
    "k=0\n",
    "tau_list = {}\n",
    "index_diff_list = {}\n",
    "for r in r_arrange: \n",
    "    beta_org = (1 / (1 + 0.01))*c\n",
    "    tau= -1/np.log(beta_org) - N\n",
    "    tau[tau<0] = 0  \n",
    "    tau_floor = np.floor(tau)\n",
    "    tau_ceil = np.ceil(tau)\n",
    "    tprod_ceil=  beta_org**tau_ceil * (tau_ceil + N)\n",
    "    tprod_floor=  beta_org**tau_floor * (tau_floor + N)\n",
    "    tau[(tprod_ceil-tprod_floor)>0] = tau_ceil[(tprod_ceil-tprod_floor)>0]\n",
    "    tau[(tprod_ceil-tprod_floor)<0] = tau_floor[(tprod_ceil-tprod_floor)<0]\n",
    "    tau[tau<0] = 0 \n",
    "    tprod1=  np.array(beta_org**tau * (tau + N) )  \n",
    "    P0 = (np.sum(1/(tprod1)**(1-sigma)))**(1/(1-sigma)) \n",
    "\n",
    "    beta_rep = (1 / (1 + r))*c\n",
    "    tau_rep= -1/np.log(beta_rep) - N\n",
    "    tau_rep[tau_rep<0] = 0  \n",
    "    tau_rep_floor = np.floor(tau_rep)\n",
    "    tau_rep_ceil = np.ceil(tau_rep)\n",
    "    tprod_ceil=  beta_rep**tau_rep_ceil * (tau_rep_ceil + N)\n",
    "    tprod_floor=  beta_rep**tau_rep_floor * (tau_rep_floor + N)\n",
    "    tau_rep[(tprod_ceil-tprod_floor)>0] = tau_rep_ceil[(tprod_ceil-tprod_floor)>0]\n",
    "    tau_rep[(tprod_ceil-tprod_floor)<0] = tau_rep_floor[(tprod_ceil-tprod_floor)<0]\n",
    "    tau_rep[tau_rep<0] = 0 \n",
    "    tprod_rep=  np.array(beta_rep**tau_rep * (tau_rep + N) )  \n",
    "    P1 = (np.sum(1/(tprod_rep)**(1-sigma)))**(1/(1-sigma)) \n",
    "\n",
    "    P[0, k] = P0\n",
    "    tau_list[k] = np.array(tau_rep)\n",
    "    tau = tau.sort_values()\n",
    "    tau_rep = tau_rep.sort_values()\n",
    "    diff = tau-tau_rep\n",
    "    index_diff=tau_rep[diff !=0].index\n",
    "    index_diff_list[k] = np.sum(index_diff!=0)\n",
    "\n",
    "    for j in range(0, int(np.max(tau_rep)) + 1):\n",
    "        tau1_temp = pd.Series(tau[tau > j])\n",
    "        tau2_temp = pd.Series(tau_rep[tau_rep <= j])\n",
    "\n",
    "        tau1_temp_df = tau1_temp.to_frame(name='t')\n",
    "        tau1_temp_df['source'] = 'org'\n",
    "\n",
    "        tau2_temp_df = tau2_temp.to_frame(name='t')\n",
    "        tau2_temp_df['source'] = 'rep'\n",
    "\n",
    "        t_temp = pd.concat([tau1_temp_df, tau2_temp_df])\n",
    "\n",
    "        dup_indices = t_temp.index[t_temp.index.duplicated(keep=False)].unique()\n",
    "\n",
    "        keep_rows = []\n",
    "\n",
    "        for i in dup_indices:\n",
    "            rows = t_temp.loc[[i]]\n",
    "            N_temp = N.loc[[i]]\n",
    "            t_org = rows[rows['source'] == 'org']['t'].values[0]\n",
    "            t_rep = rows[rows['source'] == 'rep']['t'].values[0]\n",
    "\n",
    "            tprod_org_temp = beta_org**t_org * (t_org + N_temp)\n",
    "            tprod_rep_temp = beta_rep**t_rep * (t_rep + N_temp)\n",
    "            if i ==j:\n",
    "                tprod_rep_temp = 1.0*beta_rep**t_rep * (t_rep + N_temp)\n",
    "\n",
    "            # Keep only the row with the higher value\n",
    "            if tprod_org_temp.values >= tprod_rep_temp.values:\n",
    "                keep_rows.append(rows[rows['source'] == 'org'])\n",
    "            else:\n",
    "                keep_rows.append(rows[rows['source'] == 'rep'])\n",
    "\n",
    "        # Drop all duplicates first\n",
    "        t_temp = t_temp[~t_temp.index.isin(dup_indices)]\n",
    "\n",
    "        # Add back only the best ones\n",
    "        if keep_rows:\n",
    "            t_temp = pd.concat([t_temp] + keep_rows)\n",
    "        t_temp['N'] = N.loc[t_temp.index].values\n",
    "\n",
    "        # Step 1: Add matching N values\n",
    "        t_temp['N'] = N.loc[t_temp.index].values  # will align correctly by NAICS6 index\n",
    "\n",
    "        # Step 2: Compute t_prod using vectorized logic\n",
    "        beta_vec = t_temp['source'].map({'org': beta_org, 'rep': beta_rep})\n",
    "        A_vec = np.where((t_temp['source'] == 'rep') & (t_temp['t'] == j), 1.0, 1.0)\n",
    "        t_temp['A'] = A_vec\n",
    "        t_temp['t_prod'] = A_vec * beta_vec ** t_temp['t'] * (t_temp['t'] + t_temp['N'])\n",
    "        \n",
    "        tprod_temp = t_temp['t_prod'].values\n",
    "        P[j + 1, k] = (np.sum(1 / (tprod_temp ** (1 - sigma)))) ** (1 / (1 - sigma))\n",
    "    P[j+1, k] = P1\n",
    "\n",
    "    k = k+1\n",
    "    print(k)"
   ]
  },
  {
   "cell_type": "code",
   "execution_count": 16,
   "id": "503bfbf8",
   "metadata": {},
   "outputs": [],
   "source": [
    "k = 0\n",
    "deviation_gap = np.zeros((grid_point, 1))\n",
    "\n",
    "for r in r_arrange: \n",
    "    P_temp = P[:, k]\n",
    "    P_temp_no_zeros = P_temp[P_temp != 0]\n",
    "    Y = np.zeros((len(P_temp_no_zeros), 1))\n",
    "\n",
    "    rho = 0.15           # Persistence of mean reversion\n",
    "    theta_list = np.zeros(len(P_temp_no_zeros))\n",
    "\n",
    "    theta_list[0] = 1.0             # Initial value\n",
    "    theta_list[1] = 0.1          # Shock at t = 1\n",
    "\n",
    "    for t in range(2, len(P_temp_no_zeros)):\n",
    "        theta_list[t] = rho * theta_list[t - 1] + (1 - rho) * 1.0\n",
    "\n",
    "    # --- Normalize consumption function outputs ---\n",
    "    for j in range(len(theta_list)):\n",
    "        Y[j] = consumption_function(P_temp_no_zeros[j], theta_list[j])\n",
    "        if j == 0:\n",
    "            normalizer = Y[0]\n",
    "    Y = Y / normalizer\n",
    "    # --- Compute wage inflation ---\n",
    "    wage_inflation = np.zeros(len(P_temp_no_zeros) - 1)\n",
    "    for i in range(len(theta_list) - 1):\n",
    "        P_0 = P_temp_no_zeros[i]\n",
    "        P_1 = P_temp_no_zeros[i + 1]\n",
    "        theta_0 = theta_list[i]\n",
    "        theta_1 = theta_list[i + 1]\n",
    "        wage_inflation[i] = price_inflation_ee(P_0, P_1, theta_1, theta_0, beta_hh, r)\n",
    "\n",
    "    # --- Compute deviation gap ---\n",
    "    deviation_gap[k] = np.sum((Y - 1) ** 2) + np.sum((wage_inflation - 1) ** 2)\n",
    "    k += 1"
   ]
  },
  {
   "cell_type": "code",
   "execution_count": 17,
   "id": "46d949c8",
   "metadata": {},
   "outputs": [
    {
     "data": {
      "image/png": "[encoded data removed]",
      "text/plain": [
       "<Figure size 640x480 with 1 Axes>"
      ]
     },
     "metadata": {},
     "output_type": "display_data"
    }
   ],
   "source": [
    "plt.plot(r_arrange,deviation_gap)\n",
    "plt.show()"
   ]
  },
  {
   "cell_type": "code",
   "execution_count": 18,
   "id": "5853a5db",
   "metadata": {},
   "outputs": [
    {
     "name": "stdout",
     "output_type": "stream",
     "text": [
      "[0.00932323]\n"
     ]
    }
   ],
   "source": [
    "argmins_gap = np.where(deviation_gap == np.min(deviation_gap))[0]\n",
    "print(r_arrange[argmins_gap])"
   ]
  },
  {
   "cell_type": "code",
   "execution_count": 9,
   "id": "a94e0ee3",
   "metadata": {},
   "outputs": [
    {
     "name": "stderr",
     "output_type": "stream",
     "text": [
      "/var/folders/26/bmvk0hrd5xbgcvl_s6s42rf80000gn/T/ipykernel_5417/850672584.py:2: RuntimeWarning: divide by zero encountered in power\n",
      "  return (P)**power * theta**(1/(gamma+eta))\n"
     ]
    }
   ],
   "source": [
    "consumption = np.zeros((len(P[:,argmins_gap]), 1))\n",
    "theta_list = np.ones_like(P[:,argmins_gap])\n",
    "\n",
    "\n",
    "rho = 0.15           # Persistence of mean reversion\n",
    "theta_list = np.zeros(len(P[:,argmins_gap]),)\n",
    "\n",
    "theta_list[0] = 1.0             # Initial value\n",
    "theta_list[1] = 0.7             # Shock at t = 1\n",
    "\n",
    "for t in range(2, len(P[:,argmins_gap]),):\n",
    "    theta_list[t] = rho * theta_list[t - 1] + (1 - rho) * 1.0\n",
    "\n",
    "\n",
    "consumption[0] = consumption_function(P[0,argmins_gap], theta_list[0])\n",
    "for i in range(1, len(theta_list)):\n",
    "    consumption[i] = consumption_function(P[i,argmins_gap], theta_list[i])"
   ]
  },
  {
   "cell_type": "code",
   "execution_count": 10,
   "id": "1ec95bb5",
   "metadata": {},
   "outputs": [
    {
     "name": "stderr",
     "output_type": "stream",
     "text": [
      "/var/folders/26/bmvk0hrd5xbgcvl_s6s42rf80000gn/T/ipykernel_5417/850672584.py:2: RuntimeWarning: divide by zero encountered in power\n",
      "  return (P)**power * theta**(1/(gamma+eta))\n"
     ]
    }
   ],
   "source": [
    "consumption = np.zeros((len(P[:,argmins_gap]), 1))\n",
    "theta_list = np.ones_like(P[:,argmins_gap])\n",
    "theta_list[1] = 0.7\n",
    "consumption[0] = consumption_function(P[0,argmins_gap], theta_list[0])\n",
    "for i in range(1, len(theta_list)):\n",
    "    consumption[i] = consumption_function(P[i,argmins_gap], theta_list[i])"
   ]
  },
  {
   "cell_type": "code",
   "execution_count": 11,
   "id": "9d9ab09d",
   "metadata": {},
   "outputs": [
    {
     "data": {
      "image/png": "[encoded data removed]",
      "text/plain": [
       "<Figure size 640x480 with 1 Axes>"
      ]
     },
     "metadata": {},
     "output_type": "display_data"
    }
   ],
   "source": [
    "plt.plot(consumption[:15] / consumption[0])\n",
    "\n",
    "plt.title('1 percent decrease in A')\n",
    "plt.xlabel('Time')\n",
    "plt.ylabel('Normalized Output') \n",
    "plt.show()"
   ]
  },
  {
   "cell_type": "code",
   "execution_count": null,
   "id": "3a228c4e",
   "metadata": {},
   "outputs": [],
   "source": []
  },
  {
   "cell_type": "code",
   "execution_count": 12,
   "id": "7fafa1c9",
   "metadata": {},
   "outputs": [],
   "source": [
    "beta_rep = (1 / (1 + 0.00932323))*c\n",
    "tau_rep= -1/np.log(beta_rep) - N\n",
    "tau_rep[tau_rep<0] = 0  \n",
    "tau_rep_floor = np.floor(tau_rep)\n",
    "tau_rep_ceil = np.ceil(tau_rep)\n",
    "tprod_ceil=  beta_rep**tau_rep_ceil * (tau_rep_ceil +  N)\n",
    "tprod_floor=  beta_rep**tau_rep_floor * (tau_rep_floor + N)\n",
    "tau_rep[(tprod_ceil-tprod_floor)>0] = tau_rep_ceil[(tprod_ceil-tprod_floor)>0]\n",
    "tau_rep[(tprod_ceil-tprod_floor)<0] = tau_rep_floor[(tprod_ceil-tprod_floor)<0]\n",
    "tau_rep[tau_rep<0] = 0"
   ]
  },
  {
   "cell_type": "code",
   "execution_count": 13,
   "id": "e7ed651b",
   "metadata": {},
   "outputs": [
    {
     "data": {
      "image/png": "[encoded data removed]",
      "text/plain": [
       "<Figure size 640x480 with 1 Axes>"
      ]
     },
     "metadata": {},
     "output_type": "display_data"
    }
   ],
   "source": [
    "plt.hist(tau_list[argmins_gap[0]], alpha=0.5, bins=50, label='Ajusted tau')\n",
    "plt.hist(tau, bins=50, alpha=0.5, label='Original tau')\n",
    "plt.title('Distribution of tau')\n",
    "plt.xlabel('tau')\n",
    "plt.ylabel('Frequency')\n",
    "plt.legend()    \n",
    "plt.show()"
   ]
  },
  {
   "cell_type": "code",
   "execution_count": null,
   "id": "89d37946",
   "metadata": {},
   "outputs": [],
   "source": []
  }
 ],
 "metadata": {
  "kernelspec": {
   "display_name": "base",
   "language": "python",
   "name": "python3"
  },
  "language_info": {
   "codemirror_mode": {
    "name": "ipython",
    "version": 3
   },
   "file_extension": ".py",
   "mimetype": "text/x-python",
   "name": "python",
   "nbconvert_exporter": "python",
   "pygments_lexer": "ipython3",
   "version": "3.10.14"
  }
 },
 "nbformat": 4,
 "nbformat_minor": 5
}
